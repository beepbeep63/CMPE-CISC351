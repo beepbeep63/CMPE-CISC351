{
  "cells": [
    {
      "cell_type": "markdown",
      "id": "f3a26a25",
      "metadata": {
        "papermill": {
          "duration": 0.005125,
          "end_time": "2022-12-18T23:41:55.285522",
          "exception": false,
          "start_time": "2022-12-18T23:41:55.280397",
          "status": "completed"
        },
        "tags": [],
        "id": "f3a26a25"
      },
      "source": [
        "Here is a sample code for gru4rec using recbole. \n",
        "I made it based on the following code from a past competition\n",
        "https://www.kaggle.com/code/astrung/recbole-lstm-sequential-for-recomendation-tutorial\n",
        "\n",
        "I think you can get a better score if you change the training data or epoch size, etc. Enjoy!"
      ]
    },
    {
      "cell_type": "code",
      "execution_count": null,
      "id": "02bd31bd",
      "metadata": {
        "execution": {
          "iopub.execute_input": "2022-12-18T23:41:55.294943Z",
          "iopub.status.busy": "2022-12-18T23:41:55.294543Z",
          "iopub.status.idle": "2022-12-18T23:42:07.739344Z",
          "shell.execute_reply": "2022-12-18T23:42:07.738169Z"
        },
        "papermill": {
          "duration": 12.452762,
          "end_time": "2022-12-18T23:42:07.742275",
          "exception": false,
          "start_time": "2022-12-18T23:41:55.289513",
          "status": "completed"
        },
        "tags": [],
        "colab": {
          "base_uri": "https://localhost:8080/"
        },
        "id": "02bd31bd",
        "outputId": "83491ace-e065-4b29-e5fe-776f1ab50229"
      },
      "outputs": [
        {
          "output_type": "stream",
          "name": "stdout",
          "text": [
            "Looking in indexes: https://pypi.org/simple, https://us-python.pkg.dev/colab-wheels/public/simple/\n",
            "Collecting polars\n",
            "  Downloading polars-0.17.5-cp37-abi3-manylinux_2_17_x86_64.manylinux2014_x86_64.whl (17.5 MB)\n",
            "\u001b[2K     \u001b[90m━━━━━━━━━━━━━━━━━━━━━━━━━━━━━━━━━━━━━━━━\u001b[0m \u001b[32m17.5/17.5 MB\u001b[0m \u001b[31m50.4 MB/s\u001b[0m eta \u001b[36m0:00:00\u001b[0m\n",
            "\u001b[?25hRequirement already satisfied: typing_extensions>=4.0.1 in /usr/local/lib/python3.9/dist-packages (from polars) (4.5.0)\n",
            "Installing collected packages: polars\n",
            "Successfully installed polars-0.17.5\n"
          ]
        }
      ],
      "source": [
        "!pip install polars"
      ]
    },
    {
      "cell_type": "code",
      "execution_count": null,
      "id": "d436e3b9",
      "metadata": {
        "execution": {
          "iopub.execute_input": "2022-12-18T23:42:07.754731Z",
          "iopub.status.busy": "2022-12-18T23:42:07.754417Z",
          "iopub.status.idle": "2022-12-18T23:42:19.544581Z",
          "shell.execute_reply": "2022-12-18T23:42:19.543379Z"
        },
        "papermill": {
          "duration": 11.799375,
          "end_time": "2022-12-18T23:42:19.547332",
          "exception": false,
          "start_time": "2022-12-18T23:42:07.747957",
          "status": "completed"
        },
        "tags": [],
        "colab": {
          "base_uri": "https://localhost:8080/"
        },
        "id": "d436e3b9",
        "outputId": "5325cb21-795b-4d12-fad5-27370a7626aa"
      },
      "outputs": [
        {
          "output_type": "stream",
          "name": "stdout",
          "text": [
            "Looking in indexes: https://pypi.org/simple, https://us-python.pkg.dev/colab-wheels/public/simple/\n",
            "Collecting recbole\n",
            "  Downloading recbole-1.1.1-py3-none-any.whl (2.1 MB)\n",
            "\u001b[2K     \u001b[90m━━━━━━━━━━━━━━━━━━━━━━━━━━━━━━━━━━━━━━━━\u001b[0m \u001b[32m2.1/2.1 MB\u001b[0m \u001b[31m18.7 MB/s\u001b[0m eta \u001b[36m0:00:00\u001b[0m\n",
            "\u001b[?25hRequirement already satisfied: numpy>=1.17.2 in /usr/local/lib/python3.9/dist-packages (from recbole) (1.22.4)\n",
            "Requirement already satisfied: scipy>=1.6.0 in /usr/local/lib/python3.9/dist-packages (from recbole) (1.10.1)\n",
            "Collecting colorama==0.4.4\n",
            "  Downloading colorama-0.4.4-py2.py3-none-any.whl (16 kB)\n",
            "Requirement already satisfied: tqdm>=4.48.2 in /usr/local/lib/python3.9/dist-packages (from recbole) (4.65.0)\n",
            "Requirement already satisfied: plotly>=4.0.0 in /usr/local/lib/python3.9/dist-packages (from recbole) (5.13.1)\n",
            "Requirement already satisfied: torch>=1.10.0 in /usr/local/lib/python3.9/dist-packages (from recbole) (2.0.0+cu118)\n",
            "Requirement already satisfied: scikit-learn>=0.23.2 in /usr/local/lib/python3.9/dist-packages (from recbole) (1.2.2)\n",
            "Requirement already satisfied: tensorboard>=2.5.0 in /usr/local/lib/python3.9/dist-packages (from recbole) (2.12.1)\n",
            "Requirement already satisfied: pyyaml>=5.1.0 in /usr/local/lib/python3.9/dist-packages (from recbole) (6.0)\n",
            "Collecting colorlog==4.7.2\n",
            "  Downloading colorlog-4.7.2-py2.py3-none-any.whl (10 kB)\n",
            "Collecting thop>=0.1.1.post2207130030\n",
            "  Downloading thop-0.1.1.post2209072238-py3-none-any.whl (15 kB)\n",
            "Requirement already satisfied: tabulate>=0.8.10 in /usr/local/lib/python3.9/dist-packages (from recbole) (0.8.10)\n",
            "Requirement already satisfied: pandas>=1.0.5 in /usr/local/lib/python3.9/dist-packages (from recbole) (1.5.3)\n",
            "Requirement already satisfied: pytz>=2020.1 in /usr/local/lib/python3.9/dist-packages (from pandas>=1.0.5->recbole) (2022.7.1)\n",
            "Requirement already satisfied: python-dateutil>=2.8.1 in /usr/local/lib/python3.9/dist-packages (from pandas>=1.0.5->recbole) (2.8.2)\n",
            "Requirement already satisfied: tenacity>=6.2.0 in /usr/local/lib/python3.9/dist-packages (from plotly>=4.0.0->recbole) (8.2.2)\n",
            "Requirement already satisfied: threadpoolctl>=2.0.0 in /usr/local/lib/python3.9/dist-packages (from scikit-learn>=0.23.2->recbole) (3.1.0)\n",
            "Requirement already satisfied: joblib>=1.1.1 in /usr/local/lib/python3.9/dist-packages (from scikit-learn>=0.23.2->recbole) (1.2.0)\n",
            "Requirement already satisfied: tensorboard-data-server<0.8.0,>=0.7.0 in /usr/local/lib/python3.9/dist-packages (from tensorboard>=2.5.0->recbole) (0.7.0)\n",
            "Requirement already satisfied: tensorboard-plugin-wit>=1.6.0 in /usr/local/lib/python3.9/dist-packages (from tensorboard>=2.5.0->recbole) (1.8.1)\n",
            "Requirement already satisfied: google-auth<3,>=1.6.3 in /usr/local/lib/python3.9/dist-packages (from tensorboard>=2.5.0->recbole) (2.17.2)\n",
            "Requirement already satisfied: protobuf>=3.19.6 in /usr/local/lib/python3.9/dist-packages (from tensorboard>=2.5.0->recbole) (3.20.3)\n",
            "Requirement already satisfied: wheel>=0.26 in /usr/local/lib/python3.9/dist-packages (from tensorboard>=2.5.0->recbole) (0.40.0)\n",
            "Requirement already satisfied: grpcio>=1.48.2 in /usr/local/lib/python3.9/dist-packages (from tensorboard>=2.5.0->recbole) (1.53.0)\n",
            "Requirement already satisfied: google-auth-oauthlib<1.1,>=0.5 in /usr/local/lib/python3.9/dist-packages (from tensorboard>=2.5.0->recbole) (1.0.0)\n",
            "Requirement already satisfied: setuptools>=41.0.0 in /usr/local/lib/python3.9/dist-packages (from tensorboard>=2.5.0->recbole) (67.6.1)\n",
            "Requirement already satisfied: requests<3,>=2.21.0 in /usr/local/lib/python3.9/dist-packages (from tensorboard>=2.5.0->recbole) (2.27.1)\n",
            "Requirement already satisfied: markdown>=2.6.8 in /usr/local/lib/python3.9/dist-packages (from tensorboard>=2.5.0->recbole) (3.4.3)\n",
            "Requirement already satisfied: absl-py>=0.4 in /usr/local/lib/python3.9/dist-packages (from tensorboard>=2.5.0->recbole) (1.4.0)\n",
            "Requirement already satisfied: werkzeug>=1.0.1 in /usr/local/lib/python3.9/dist-packages (from tensorboard>=2.5.0->recbole) (2.2.3)\n",
            "Requirement already satisfied: typing-extensions in /usr/local/lib/python3.9/dist-packages (from torch>=1.10.0->recbole) (4.5.0)\n",
            "Requirement already satisfied: filelock in /usr/local/lib/python3.9/dist-packages (from torch>=1.10.0->recbole) (3.11.0)\n",
            "Requirement already satisfied: triton==2.0.0 in /usr/local/lib/python3.9/dist-packages (from torch>=1.10.0->recbole) (2.0.0)\n",
            "Requirement already satisfied: sympy in /usr/local/lib/python3.9/dist-packages (from torch>=1.10.0->recbole) (1.11.1)\n",
            "Requirement already satisfied: networkx in /usr/local/lib/python3.9/dist-packages (from torch>=1.10.0->recbole) (3.1)\n",
            "Requirement already satisfied: jinja2 in /usr/local/lib/python3.9/dist-packages (from torch>=1.10.0->recbole) (3.1.2)\n",
            "Requirement already satisfied: lit in /usr/local/lib/python3.9/dist-packages (from triton==2.0.0->torch>=1.10.0->recbole) (16.0.1)\n",
            "Requirement already satisfied: cmake in /usr/local/lib/python3.9/dist-packages (from triton==2.0.0->torch>=1.10.0->recbole) (3.25.2)\n",
            "Requirement already satisfied: six>=1.9.0 in /usr/local/lib/python3.9/dist-packages (from google-auth<3,>=1.6.3->tensorboard>=2.5.0->recbole) (1.16.0)\n",
            "Requirement already satisfied: pyasn1-modules>=0.2.1 in /usr/local/lib/python3.9/dist-packages (from google-auth<3,>=1.6.3->tensorboard>=2.5.0->recbole) (0.2.8)\n",
            "Requirement already satisfied: rsa<5,>=3.1.4 in /usr/local/lib/python3.9/dist-packages (from google-auth<3,>=1.6.3->tensorboard>=2.5.0->recbole) (4.9)\n",
            "Requirement already satisfied: cachetools<6.0,>=2.0.0 in /usr/local/lib/python3.9/dist-packages (from google-auth<3,>=1.6.3->tensorboard>=2.5.0->recbole) (5.3.0)\n",
            "Requirement already satisfied: requests-oauthlib>=0.7.0 in /usr/local/lib/python3.9/dist-packages (from google-auth-oauthlib<1.1,>=0.5->tensorboard>=2.5.0->recbole) (1.3.1)\n",
            "Requirement already satisfied: importlib-metadata>=4.4 in /usr/local/lib/python3.9/dist-packages (from markdown>=2.6.8->tensorboard>=2.5.0->recbole) (6.3.0)\n",
            "Requirement already satisfied: idna<4,>=2.5 in /usr/local/lib/python3.9/dist-packages (from requests<3,>=2.21.0->tensorboard>=2.5.0->recbole) (3.4)\n",
            "Requirement already satisfied: certifi>=2017.4.17 in /usr/local/lib/python3.9/dist-packages (from requests<3,>=2.21.0->tensorboard>=2.5.0->recbole) (2022.12.7)\n",
            "Requirement already satisfied: charset-normalizer~=2.0.0 in /usr/local/lib/python3.9/dist-packages (from requests<3,>=2.21.0->tensorboard>=2.5.0->recbole) (2.0.12)\n",
            "Requirement already satisfied: urllib3<1.27,>=1.21.1 in /usr/local/lib/python3.9/dist-packages (from requests<3,>=2.21.0->tensorboard>=2.5.0->recbole) (1.26.15)\n",
            "Requirement already satisfied: MarkupSafe>=2.1.1 in /usr/local/lib/python3.9/dist-packages (from werkzeug>=1.0.1->tensorboard>=2.5.0->recbole) (2.1.2)\n",
            "Requirement already satisfied: mpmath>=0.19 in /usr/local/lib/python3.9/dist-packages (from sympy->torch>=1.10.0->recbole) (1.3.0)\n",
            "Requirement already satisfied: zipp>=0.5 in /usr/local/lib/python3.9/dist-packages (from importlib-metadata>=4.4->markdown>=2.6.8->tensorboard>=2.5.0->recbole) (3.15.0)\n",
            "Requirement already satisfied: pyasn1<0.5.0,>=0.4.6 in /usr/local/lib/python3.9/dist-packages (from pyasn1-modules>=0.2.1->google-auth<3,>=1.6.3->tensorboard>=2.5.0->recbole) (0.4.8)\n",
            "Requirement already satisfied: oauthlib>=3.0.0 in /usr/local/lib/python3.9/dist-packages (from requests-oauthlib>=0.7.0->google-auth-oauthlib<1.1,>=0.5->tensorboard>=2.5.0->recbole) (3.2.2)\n",
            "Installing collected packages: colorlog, colorama, thop, recbole\n",
            "Successfully installed colorama-0.4.4 colorlog-4.7.2 recbole-1.1.1 thop-0.1.1.post2209072238\n"
          ]
        }
      ],
      "source": [
        "!pip install recbole"
      ]
    },
    {
      "cell_type": "code",
      "execution_count": null,
      "id": "21a62ea0",
      "metadata": {
        "execution": {
          "iopub.execute_input": "2022-12-18T23:42:19.562728Z",
          "iopub.status.busy": "2022-12-18T23:42:19.562405Z",
          "iopub.status.idle": "2022-12-18T23:42:20.449425Z",
          "shell.execute_reply": "2022-12-18T23:42:20.448479Z"
        },
        "papermill": {
          "duration": 0.897307,
          "end_time": "2022-12-18T23:42:20.451838",
          "exception": false,
          "start_time": "2022-12-18T23:42:19.554531",
          "status": "completed"
        },
        "tags": [],
        "id": "21a62ea0"
      },
      "outputs": [],
      "source": [
        "import tqdm\n",
        "import polars as pl\n",
        "import numpy as np\n",
        "import pandas as pd\n",
        "import seaborn as sns\n",
        "import random\n",
        "import os \n",
        "import h5py\n",
        "import sys\n",
        "import gc\n",
        "\n",
        "from matplotlib import pyplot as plt\n",
        "import pyarrow.parquet as pq"
      ]
    },
    {
      "cell_type": "markdown",
      "id": "bebf923e",
      "metadata": {
        "papermill": {
          "duration": 0.006377,
          "end_time": "2022-12-18T23:42:20.464989",
          "exception": false,
          "start_time": "2022-12-18T23:42:20.458612",
          "status": "completed"
        },
        "tags": [],
        "id": "bebf923e"
      },
      "source": [
        "# 1. Create atomic file"
      ]
    },
    {
      "cell_type": "code",
      "source": [
        "from google.colab import drive\n",
        "drive.mount('/content/drive')"
      ],
      "metadata": {
        "colab": {
          "base_uri": "https://localhost:8080/"
        },
        "id": "Sb-unS7wG58e",
        "outputId": "3850ce1e-2aa9-4b13-b095-6b09743b50c3"
      },
      "id": "Sb-unS7wG58e",
      "execution_count": null,
      "outputs": [
        {
          "output_type": "stream",
          "name": "stdout",
          "text": [
            "Mounted at /content/drive\n"
          ]
        }
      ]
    },
    {
      "cell_type": "code",
      "execution_count": null,
      "id": "4c7e173b",
      "metadata": {
        "execution": {
          "iopub.execute_input": "2022-12-18T23:42:20.479028Z",
          "iopub.status.busy": "2022-12-18T23:42:20.478725Z",
          "iopub.status.idle": "2022-12-18T23:42:23.490548Z",
          "shell.execute_reply": "2022-12-18T23:42:23.489545Z"
        },
        "papermill": {
          "duration": 3.02189,
          "end_time": "2022-12-18T23:42:23.493317",
          "exception": false,
          "start_time": "2022-12-18T23:42:20.471427",
          "status": "completed"
        },
        "tags": [],
        "id": "4c7e173b"
      },
      "outputs": [],
      "source": [
        "#train = pl.read_parquet('/content/QB-video.csv')\n",
        "#test = pl.read_parquet('/kaggle/input/otto-full-optimized-memory-footprint/test.parquet')\n",
        "df = pd.read_csv('/content/drive/MyDrive/sbr_data_1M.csv', nrows=1000000)\n",
        "#df = pd.read_csv('/content/QB-video.csv')\n",
        "#df = pl.read_parquet('../input/otto-train-and-test-data-for-local-validation/test.parquet')\n",
        "\n",
        "#df = df.sort_values(['user_id', 'item_id', 'watching_times', 'gender'])\n",
        "#df = df.with_columns((pl.col('watching_times') * 1e9).alias('watching_times'))\n",
        "#df = df.rename({'user_id': 'user_id:token', 'item_id': 'item_id:token','watching_times': 'watching_times:float'})\n",
        "\n",
        "mapping = {df.columns[0]:'user_id:token', df.columns[1]: 'item_id:token', df.columns[7]:'watching_times:float'}\n",
        "df = df.rename(columns=mapping)\n",
        "\n",
        "df = df.drop(columns=['click', 'follow', 'like', 'share', 'video_category', 'age'])\n",
        "#df = df.sample(frac =.10)\n",
        "df1 = df.loc[df['gender'] == 0]\n",
        "df2 = df.loc[df['gender'] == 1]\n",
        "df3 = df.loc[df['gender'] == 2]\n",
        "df4 = df.drop(columns=['gender'])\n",
        "df1 = df1.drop(columns=['gender'])\n",
        "df2 = df2.drop(columns=['gender'])\n",
        "df3 = df3.drop(columns=['gender'])"
      ]
    },
    {
      "cell_type": "code",
      "source": [
        "print(df1.shape[0])\n",
        "print(df2.shape[0])\n",
        "print(df3.shape[0])\n",
        "print(df4.shape[0])"
      ],
      "metadata": {
        "colab": {
          "base_uri": "https://localhost:8080/"
        },
        "id": "ZOLL9f6gAmpS",
        "outputId": "63b003e4-0721-41f4-e117-10737aa1f6d2"
      },
      "id": "ZOLL9f6gAmpS",
      "execution_count": null,
      "outputs": [
        {
          "output_type": "stream",
          "name": "stdout",
          "text": [
            "196165\n",
            "605173\n",
            "198662\n",
            "1000000\n"
          ]
        }
      ]
    },
    {
      "cell_type": "code",
      "execution_count": null,
      "id": "f54a9153",
      "metadata": {
        "execution": {
          "iopub.execute_input": "2022-12-18T23:42:23.509119Z",
          "iopub.status.busy": "2022-12-18T23:42:23.508096Z",
          "iopub.status.idle": "2022-12-18T23:42:28.091122Z",
          "shell.execute_reply": "2022-12-18T23:42:28.090064Z"
        },
        "papermill": {
          "duration": 4.592884,
          "end_time": "2022-12-18T23:42:28.093276",
          "exception": false,
          "start_time": "2022-12-18T23:42:23.500392",
          "status": "completed"
        },
        "tags": [],
        "id": "f54a9153"
      },
      "outputs": [],
      "source": [
        "#!mkdir /kaggle/working/recbox_data\n",
        "#df['user_id:int64', 'item_id:int64', 'watching_times:int64'].write_csv('/content/data.inter', sep='\\t')\n",
        "\n",
        "#del df, train, test\n",
        "#gc.collect()\n",
        "\n",
        "df3.to_csv('/content/data/data.inter', index=False, sep='\\t')"
      ]
    },
    {
      "cell_type": "code",
      "source": [
        "print(df.head())\n",
        "print(df.dtypes)"
      ],
      "metadata": {
        "colab": {
          "base_uri": "https://localhost:8080/"
        },
        "id": "T0O3HIFwOC5B",
        "outputId": "b4b2d3cd-fce3-43c6-f851-9edd2b9c998f"
      },
      "id": "T0O3HIFwOC5B",
      "execution_count": null,
      "outputs": [
        {
          "output_type": "stream",
          "name": "stdout",
          "text": [
            "   user_id:token  item_id:token  watching_times:float  gender\n",
            "0              1              1                     1       1\n",
            "1              1              2                     1       1\n",
            "2              1              3                     1       1\n",
            "3              1          80936                     1       1\n",
            "4              1            781                     1       1\n",
            "user_id:token           int64\n",
            "item_id:token           int64\n",
            "watching_times:float    int64\n",
            "gender                  int64\n",
            "dtype: object\n"
          ]
        }
      ]
    },
    {
      "cell_type": "markdown",
      "id": "c60f136b",
      "metadata": {
        "papermill": {
          "duration": 0.006526,
          "end_time": "2022-12-18T23:42:28.106859",
          "exception": false,
          "start_time": "2022-12-18T23:42:28.100333",
          "status": "completed"
        },
        "tags": [],
        "id": "c60f136b"
      },
      "source": [
        "# 3. Create dataset and train model with Recbole\n",
        "\n",
        "For anyone need instruction document, please check this link: https://recbole.io/docs/user_guide/usage/use_modules.html"
      ]
    },
    {
      "cell_type": "code",
      "execution_count": null,
      "id": "6da7733b",
      "metadata": {
        "execution": {
          "iopub.execute_input": "2022-12-18T23:42:28.122898Z",
          "iopub.status.busy": "2022-12-18T23:42:28.122121Z",
          "iopub.status.idle": "2022-12-18T23:42:29.741500Z",
          "shell.execute_reply": "2022-12-18T23:42:29.740478Z"
        },
        "papermill": {
          "duration": 1.62961,
          "end_time": "2022-12-18T23:42:29.743862",
          "exception": false,
          "start_time": "2022-12-18T23:42:28.114252",
          "status": "completed"
        },
        "tags": [],
        "id": "6da7733b"
      },
      "outputs": [],
      "source": [
        "import logging\n",
        "from logging import getLogger\n",
        "from recbole.config import Config\n",
        "from recbole.data import create_dataset, data_preparation\n",
        "from recbole.model.sequential_recommender import BERT4Rec, GRU4Rec\n",
        "from recbole.trainer import Trainer\n",
        "from recbole.utils import init_seed, init_logger\n",
        "\n",
        "from recbole.utils.case_study import full_sort_topk"
      ]
    },
    {
      "cell_type": "code",
      "execution_count": null,
      "id": "5cc0955e",
      "metadata": {
        "execution": {
          "iopub.execute_input": "2022-12-18T23:42:29.759825Z",
          "iopub.status.busy": "2022-12-18T23:42:29.759275Z",
          "iopub.status.idle": "2022-12-18T23:42:30.158848Z",
          "shell.execute_reply": "2022-12-18T23:42:30.157204Z"
        },
        "papermill": {
          "duration": 0.701884,
          "end_time": "2022-12-18T23:42:30.453014",
          "exception": false,
          "start_time": "2022-12-18T23:42:29.751130",
          "status": "completed"
        },
        "tags": [],
        "id": "5cc0955e"
      },
      "outputs": [],
      "source": [
        "MAX_ITEM = 20\n",
        "\n",
        "parameter_dict = {\n",
        "    'data_path': '/content/',\n",
        "    'USER_ID_FIELD': 'user_id',\n",
        "    'ITEM_ID_FIELD': 'item_id',\n",
        "    'TIME_FIELD': 'watching_times',\n",
        "    'user_inter_num_interval': \"[5,Inf)\",\n",
        "    'item_inter_num_interval': \"[5,Inf)\",\n",
        "    'load_col': {'inter': ['user_id', 'item_id', 'watching_times'], 'item': ['item_id', 'item_emb']},\n",
        "    'train_neg_sample_args': None,\n",
        "    'epochs': 1,\n",
        "    'stopping_step':3,\n",
        "    \n",
        "    'eval_batch_size': 1024,\n",
        "    #'train_batch_size': 1024,\n",
        "#    'enable_amp':True,\n",
        "    'MAX_ITEM_LIST_LENGTH': MAX_ITEM,\n",
        "    'eval_args': {\n",
        "        'split': {'RS': [9, 1, 0]},\n",
        "        'group_by': 'user',\n",
        "        'order': 'TO',\n",
        "        'mode': 'full'}\n",
        "}\n",
        "\n",
        "config = Config(model='BERT4Rec', dataset='data', config_dict=parameter_dict)\n",
        "\n",
        "# init random seed\n",
        "init_seed(config['seed'], config['reproducibility'])\n",
        "\n",
        "# logger initialization\n",
        "init_logger(config)\n",
        "logger = getLogger()\n",
        "\n",
        "# Create handlers\n",
        "c_handler = logging.StreamHandler()\n",
        "c_handler.setLevel(logging.INFO)\n",
        "logger.addHandler(c_handler)\n",
        "\n",
        "# write config info into log\n",
        "logger.info(config)"
      ]
    },
    {
      "cell_type": "code",
      "execution_count": null,
      "id": "ef2e6128",
      "metadata": {
        "execution": {
          "iopub.execute_input": "2022-12-18T23:42:30.502739Z",
          "iopub.status.busy": "2022-12-18T23:42:30.502412Z",
          "iopub.status.idle": "2022-12-18T23:44:54.287618Z",
          "shell.execute_reply": "2022-12-18T23:44:54.286830Z"
        },
        "papermill": {
          "duration": 143.847865,
          "end_time": "2022-12-18T23:44:54.325474",
          "exception": false,
          "start_time": "2022-12-18T23:42:30.477609",
          "status": "completed"
        },
        "tags": [],
        "id": "ef2e6128"
      },
      "outputs": [],
      "source": [
        "dataset = create_dataset(config)\n",
        "logger.info(dataset)"
      ]
    },
    {
      "cell_type": "code",
      "execution_count": null,
      "id": "d648578a",
      "metadata": {
        "execution": {
          "iopub.execute_input": "2022-12-18T23:44:54.376666Z",
          "iopub.status.busy": "2022-12-18T23:44:54.376360Z",
          "iopub.status.idle": "2022-12-18T23:46:43.669747Z",
          "shell.execute_reply": "2022-12-18T23:46:43.669036Z"
        },
        "papermill": {
          "duration": 109.354417,
          "end_time": "2022-12-18T23:46:43.705217",
          "exception": false,
          "start_time": "2022-12-18T23:44:54.350800",
          "status": "completed"
        },
        "tags": [],
        "id": "d648578a"
      },
      "outputs": [],
      "source": [
        "# dataset splitting\n",
        "train_data, valid_data, test_data = data_preparation(config, dataset)"
      ]
    },
    {
      "cell_type": "code",
      "execution_count": null,
      "id": "80a60726",
      "metadata": {
        "execution": {
          "iopub.execute_input": "2022-12-18T23:46:43.758074Z",
          "iopub.status.busy": "2022-12-18T23:46:43.757763Z",
          "iopub.status.idle": "2022-12-19T01:02:18.755337Z",
          "shell.execute_reply": "2022-12-19T01:02:18.754431Z"
        },
        "papermill": {
          "duration": 4535.026086,
          "end_time": "2022-12-19T01:02:18.757518",
          "exception": false,
          "start_time": "2022-12-18T23:46:43.731432",
          "status": "completed"
        },
        "scrolled": true,
        "tags": [],
        "id": "80a60726"
      },
      "outputs": [],
      "source": [
        "# model loading and initialization\n",
        "model = BERT4Rec(config, train_data.dataset).to(config['device'])\n",
        "logger.info(model)\n",
        "\n",
        "# trainer loading and initialization\n",
        "trainer = Trainer(config, model)\n",
        "\n",
        "# model training\n",
        "best_valid_score, best_valid_result = trainer.fit(train_data, valid_data)\n",
        "#best_valid_score, best_valid_result = trainer.fit(train_data)"
      ]
    },
    {
      "cell_type": "code",
      "execution_count": null,
      "id": "23e1e9ac",
      "metadata": {
        "execution": {
          "iopub.execute_input": "2022-12-19T01:02:18.827534Z",
          "iopub.status.busy": "2022-12-19T01:02:18.826023Z",
          "iopub.status.idle": "2022-12-19T01:02:18.831574Z",
          "shell.execute_reply": "2022-12-19T01:02:18.830705Z"
        },
        "papermill": {
          "duration": 0.042044,
          "end_time": "2022-12-19T01:02:18.833463",
          "exception": false,
          "start_time": "2022-12-19T01:02:18.791419",
          "status": "completed"
        },
        "tags": [],
        "id": "23e1e9ac",
        "colab": {
          "base_uri": "https://localhost:8080/"
        },
        "outputId": "b7d9b2af-baff-487b-b9a8-b2b0af75025e"
      },
      "outputs": [
        {
          "output_type": "stream",
          "name": "stdout",
          "text": [
            "0.0106\n",
            "OrderedDict([('recall@10', 0.0332), ('mrr@10', 0.0106), ('ndcg@10', 0.0159), ('hit@10', 0.0332), ('precision@10', 0.0033)])\n"
          ]
        }
      ],
      "source": [
        "print(best_valid_score)\n",
        "print(best_valid_result)\n",
        "import gc\n",
        "del trainer, train_data, valid_data, test_data"
      ]
    },
    {
      "cell_type": "code",
      "execution_count": null,
      "id": "f6e916a1",
      "metadata": {
        "execution": {
          "iopub.execute_input": "2022-12-19T01:02:18.902468Z",
          "iopub.status.busy": "2022-12-19T01:02:18.901065Z",
          "iopub.status.idle": "2022-12-19T01:02:19.490425Z",
          "shell.execute_reply": "2022-12-19T01:02:19.489524Z"
        },
        "papermill": {
          "duration": 0.626057,
          "end_time": "2022-12-19T01:02:19.492637",
          "exception": false,
          "start_time": "2022-12-19T01:02:18.866580",
          "status": "completed"
        },
        "tags": [],
        "colab": {
          "base_uri": "https://localhost:8080/"
        },
        "id": "f6e916a1",
        "outputId": "7ea48820-780e-4a7b-a341-8ea4b4e461b8"
      },
      "outputs": [
        {
          "output_type": "execute_result",
          "data": {
            "text/plain": [
              "0"
            ]
          },
          "metadata": {},
          "execution_count": 38
        }
      ],
      "source": [
        "gc.collect()"
      ]
    }
  ],
  "metadata": {
    "kernelspec": {
      "display_name": "Python 3",
      "language": "python",
      "name": "python3"
    },
    "language_info": {
      "codemirror_mode": {
        "name": "ipython",
        "version": 3
      },
      "file_extension": ".py",
      "mimetype": "text/x-python",
      "name": "python",
      "nbconvert_exporter": "python",
      "pygments_lexer": "ipython3",
      "version": "3.7.12"
    },
    "papermill": {
      "default_parameters": {},
      "duration": 14032.607485,
      "end_time": "2022-12-19T03:35:40.573576",
      "environment_variables": {},
      "exception": null,
      "input_path": "__notebook__.ipynb",
      "output_path": "__notebook__.ipynb",
      "parameters": {},
      "start_time": "2022-12-18T23:41:47.966091",
      "version": "2.3.4"
    },
    "colab": {
      "provenance": []
    }
  },
  "nbformat": 4,
  "nbformat_minor": 5
}
