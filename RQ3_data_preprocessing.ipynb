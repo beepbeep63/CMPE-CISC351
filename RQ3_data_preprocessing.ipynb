{
 "cells": [
  {
   "cell_type": "code",
   "execution_count": 1,
   "id": "201d806f",
   "metadata": {},
   "outputs": [],
   "source": [
    "import warnings\n",
    "warnings.filterwarnings('ignore')"
   ]
  },
  {
   "cell_type": "code",
   "execution_count": 2,
   "id": "aae3293e",
   "metadata": {},
   "outputs": [],
   "source": [
    "import pandas as pd\n",
    "from recbole.quick_start import run_recbole\n",
    "from recbole.config import Config\n",
    "from recbole.data import create_dataset, data_preparation\n",
    "from recbole.model.sequential_recommender import BERT4Rec"
   ]
  },
  {
   "cell_type": "code",
   "execution_count": 3,
   "id": "51ab08b1",
   "metadata": {},
   "outputs": [],
   "source": [
    "data_path = 'Tenrec/Tenrec/cold_data.csv'\n",
    "data = pd.read_csv(data_path,error_bad_lines=False, low_memory=False)\n",
    "#data['user_id'] = data['user_id'].astype('str')\n",
    "#data['item_id'] = data['item_id'].astype('str')\n",
    "#data['gender'] = data['gender'].astype('str')\n",
    "#data['age'] = data['age'].astype('str')"
   ]
  },
  {
   "cell_type": "code",
   "execution_count": 11,
   "id": "0a72145c",
   "metadata": {},
   "outputs": [],
   "source": [
    "ages = [0,1,2,3,4,5,6,7]\n",
    "genders = [0,1,2]\n",
    "age_sample_size = 965\n",
    "gender_sample_size = 555\n",
    "for age in ages:\n",
    "    filtered_data = data[(data['age'] == age)]\n",
    "    sample_group = filtered_data.sample(n = age_sample_size, random_state = 114)\n",
    "    # Save the filtered dataset into a separate CSV file\n",
    "    sample_group.to_csv(f'965_age_{age}.csv', index=False)\n",
    "    \n",
    "for gender in genders:\n",
    "    filtered_data = data[(data['gender'] == gender)]\n",
    "    sample_group = filtered_data.sample(n = gender_sample_size, random_state = 114)\n",
    "    # Save the filtered dataset into a separate CSV file\n",
    "    sample_group.to_csv(f'555_gender_{gender}.csv', index=False)"
   ]
  }
 ],
 "metadata": {
  "kernelspec": {
   "display_name": "Python 3 (ipykernel)",
   "language": "python",
   "name": "python3"
  },
  "language_info": {
   "codemirror_mode": {
    "name": "ipython",
    "version": 3
   },
   "file_extension": ".py",
   "mimetype": "text/x-python",
   "name": "python",
   "nbconvert_exporter": "python",
   "pygments_lexer": "ipython3",
   "version": "3.10.6"
  }
 },
 "nbformat": 4,
 "nbformat_minor": 5
}
