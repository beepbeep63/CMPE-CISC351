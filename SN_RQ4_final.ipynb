{
  "cells": [
    {
      "cell_type": "markdown",
      "source": [
        "Some code is from a team member, which is based on https://www.kaggle.com/code/astrung/recbole-lstm-sequential-for-recomendation-tutorial"
      ],
      "metadata": {
        "id": "iJmi57I9T0z1"
      }
    },
    {
      "cell_type": "markdown",
      "metadata": {
        "id": "12yswsMPLxiu"
      },
      "source": [
        "# Imports"
      ]
    },
    {
      "cell_type": "code",
      "execution_count": 1,
      "metadata": {
        "colab": {
          "base_uri": "https://localhost:8080/"
        },
        "id": "mbhE4j4e22Rj",
        "outputId": "a747f1a6-717e-45e4-ca60-bf867a2b7fb7"
      },
      "outputs": [
        {
          "output_type": "stream",
          "name": "stdout",
          "text": [
            "Looking in indexes: https://pypi.org/simple, https://us-python.pkg.dev/colab-wheels/public/simple/\n",
            "Collecting recbole\n",
            "  Downloading recbole-1.1.1-py3-none-any.whl (2.1 MB)\n",
            "\u001b[2K     \u001b[90m━━━━━━━━━━━━━━━━━━━━━━━━━━━━━━━━━━━━━━━━\u001b[0m \u001b[32m2.1/2.1 MB\u001b[0m \u001b[31m18.1 MB/s\u001b[0m eta \u001b[36m0:00:00\u001b[0m\n",
            "\u001b[?25hRequirement already satisfied: tabulate>=0.8.10 in /usr/local/lib/python3.9/dist-packages (from recbole) (0.8.10)\n",
            "Requirement already satisfied: numpy>=1.17.2 in /usr/local/lib/python3.9/dist-packages (from recbole) (1.22.4)\n",
            "Requirement already satisfied: pandas>=1.0.5 in /usr/local/lib/python3.9/dist-packages (from recbole) (1.5.3)\n",
            "Requirement already satisfied: tensorboard>=2.5.0 in /usr/local/lib/python3.9/dist-packages (from recbole) (2.12.1)\n",
            "Requirement already satisfied: pyyaml>=5.1.0 in /usr/local/lib/python3.9/dist-packages (from recbole) (6.0)\n",
            "Requirement already satisfied: scipy>=1.6.0 in /usr/local/lib/python3.9/dist-packages (from recbole) (1.10.1)\n",
            "Requirement already satisfied: tqdm>=4.48.2 in /usr/local/lib/python3.9/dist-packages (from recbole) (4.65.0)\n",
            "Requirement already satisfied: torch>=1.10.0 in /usr/local/lib/python3.9/dist-packages (from recbole) (2.0.0+cu118)\n",
            "Collecting colorama==0.4.4\n",
            "  Downloading colorama-0.4.4-py2.py3-none-any.whl (16 kB)\n",
            "Requirement already satisfied: scikit-learn>=0.23.2 in /usr/local/lib/python3.9/dist-packages (from recbole) (1.2.2)\n",
            "Requirement already satisfied: plotly>=4.0.0 in /usr/local/lib/python3.9/dist-packages (from recbole) (5.13.1)\n",
            "Collecting colorlog==4.7.2\n",
            "  Downloading colorlog-4.7.2-py2.py3-none-any.whl (10 kB)\n",
            "Collecting thop>=0.1.1.post2207130030\n",
            "  Downloading thop-0.1.1.post2209072238-py3-none-any.whl (15 kB)\n",
            "Requirement already satisfied: python-dateutil>=2.8.1 in /usr/local/lib/python3.9/dist-packages (from pandas>=1.0.5->recbole) (2.8.2)\n",
            "Requirement already satisfied: pytz>=2020.1 in /usr/local/lib/python3.9/dist-packages (from pandas>=1.0.5->recbole) (2022.7.1)\n",
            "Requirement already satisfied: tenacity>=6.2.0 in /usr/local/lib/python3.9/dist-packages (from plotly>=4.0.0->recbole) (8.2.2)\n",
            "Requirement already satisfied: threadpoolctl>=2.0.0 in /usr/local/lib/python3.9/dist-packages (from scikit-learn>=0.23.2->recbole) (3.1.0)\n",
            "Requirement already satisfied: joblib>=1.1.1 in /usr/local/lib/python3.9/dist-packages (from scikit-learn>=0.23.2->recbole) (1.2.0)\n",
            "Requirement already satisfied: protobuf>=3.19.6 in /usr/local/lib/python3.9/dist-packages (from tensorboard>=2.5.0->recbole) (3.20.3)\n",
            "Requirement already satisfied: tensorboard-data-server<0.8.0,>=0.7.0 in /usr/local/lib/python3.9/dist-packages (from tensorboard>=2.5.0->recbole) (0.7.0)\n",
            "Requirement already satisfied: tensorboard-plugin-wit>=1.6.0 in /usr/local/lib/python3.9/dist-packages (from tensorboard>=2.5.0->recbole) (1.8.1)\n",
            "Requirement already satisfied: grpcio>=1.48.2 in /usr/local/lib/python3.9/dist-packages (from tensorboard>=2.5.0->recbole) (1.53.0)\n",
            "Requirement already satisfied: markdown>=2.6.8 in /usr/local/lib/python3.9/dist-packages (from tensorboard>=2.5.0->recbole) (3.4.3)\n",
            "Requirement already satisfied: werkzeug>=1.0.1 in /usr/local/lib/python3.9/dist-packages (from tensorboard>=2.5.0->recbole) (2.2.3)\n",
            "Requirement already satisfied: absl-py>=0.4 in /usr/local/lib/python3.9/dist-packages (from tensorboard>=2.5.0->recbole) (1.4.0)\n",
            "Requirement already satisfied: google-auth-oauthlib<1.1,>=0.5 in /usr/local/lib/python3.9/dist-packages (from tensorboard>=2.5.0->recbole) (1.0.0)\n",
            "Requirement already satisfied: google-auth<3,>=1.6.3 in /usr/local/lib/python3.9/dist-packages (from tensorboard>=2.5.0->recbole) (2.17.2)\n",
            "Requirement already satisfied: wheel>=0.26 in /usr/local/lib/python3.9/dist-packages (from tensorboard>=2.5.0->recbole) (0.40.0)\n",
            "Requirement already satisfied: requests<3,>=2.21.0 in /usr/local/lib/python3.9/dist-packages (from tensorboard>=2.5.0->recbole) (2.27.1)\n",
            "Requirement already satisfied: setuptools>=41.0.0 in /usr/local/lib/python3.9/dist-packages (from tensorboard>=2.5.0->recbole) (67.6.1)\n",
            "Requirement already satisfied: jinja2 in /usr/local/lib/python3.9/dist-packages (from torch>=1.10.0->recbole) (3.1.2)\n",
            "Requirement already satisfied: filelock in /usr/local/lib/python3.9/dist-packages (from torch>=1.10.0->recbole) (3.11.0)\n",
            "Requirement already satisfied: sympy in /usr/local/lib/python3.9/dist-packages (from torch>=1.10.0->recbole) (1.11.1)\n",
            "Requirement already satisfied: networkx in /usr/local/lib/python3.9/dist-packages (from torch>=1.10.0->recbole) (3.1)\n",
            "Requirement already satisfied: typing-extensions in /usr/local/lib/python3.9/dist-packages (from torch>=1.10.0->recbole) (4.5.0)\n",
            "Requirement already satisfied: triton==2.0.0 in /usr/local/lib/python3.9/dist-packages (from torch>=1.10.0->recbole) (2.0.0)\n",
            "Requirement already satisfied: cmake in /usr/local/lib/python3.9/dist-packages (from triton==2.0.0->torch>=1.10.0->recbole) (3.25.2)\n",
            "Requirement already satisfied: lit in /usr/local/lib/python3.9/dist-packages (from triton==2.0.0->torch>=1.10.0->recbole) (16.0.1)\n",
            "Requirement already satisfied: rsa<5,>=3.1.4 in /usr/local/lib/python3.9/dist-packages (from google-auth<3,>=1.6.3->tensorboard>=2.5.0->recbole) (4.9)\n",
            "Requirement already satisfied: six>=1.9.0 in /usr/local/lib/python3.9/dist-packages (from google-auth<3,>=1.6.3->tensorboard>=2.5.0->recbole) (1.16.0)\n",
            "Requirement already satisfied: pyasn1-modules>=0.2.1 in /usr/local/lib/python3.9/dist-packages (from google-auth<3,>=1.6.3->tensorboard>=2.5.0->recbole) (0.2.8)\n",
            "Requirement already satisfied: cachetools<6.0,>=2.0.0 in /usr/local/lib/python3.9/dist-packages (from google-auth<3,>=1.6.3->tensorboard>=2.5.0->recbole) (5.3.0)\n",
            "Requirement already satisfied: requests-oauthlib>=0.7.0 in /usr/local/lib/python3.9/dist-packages (from google-auth-oauthlib<1.1,>=0.5->tensorboard>=2.5.0->recbole) (1.3.1)\n",
            "Requirement already satisfied: importlib-metadata>=4.4 in /usr/local/lib/python3.9/dist-packages (from markdown>=2.6.8->tensorboard>=2.5.0->recbole) (6.3.0)\n",
            "Requirement already satisfied: certifi>=2017.4.17 in /usr/local/lib/python3.9/dist-packages (from requests<3,>=2.21.0->tensorboard>=2.5.0->recbole) (2022.12.7)\n",
            "Requirement already satisfied: charset-normalizer~=2.0.0 in /usr/local/lib/python3.9/dist-packages (from requests<3,>=2.21.0->tensorboard>=2.5.0->recbole) (2.0.12)\n",
            "Requirement already satisfied: idna<4,>=2.5 in /usr/local/lib/python3.9/dist-packages (from requests<3,>=2.21.0->tensorboard>=2.5.0->recbole) (3.4)\n",
            "Requirement already satisfied: urllib3<1.27,>=1.21.1 in /usr/local/lib/python3.9/dist-packages (from requests<3,>=2.21.0->tensorboard>=2.5.0->recbole) (1.26.15)\n",
            "Requirement already satisfied: MarkupSafe>=2.1.1 in /usr/local/lib/python3.9/dist-packages (from werkzeug>=1.0.1->tensorboard>=2.5.0->recbole) (2.1.2)\n",
            "Requirement already satisfied: mpmath>=0.19 in /usr/local/lib/python3.9/dist-packages (from sympy->torch>=1.10.0->recbole) (1.3.0)\n",
            "Requirement already satisfied: zipp>=0.5 in /usr/local/lib/python3.9/dist-packages (from importlib-metadata>=4.4->markdown>=2.6.8->tensorboard>=2.5.0->recbole) (3.15.0)\n",
            "Requirement already satisfied: pyasn1<0.5.0,>=0.4.6 in /usr/local/lib/python3.9/dist-packages (from pyasn1-modules>=0.2.1->google-auth<3,>=1.6.3->tensorboard>=2.5.0->recbole) (0.4.8)\n",
            "Requirement already satisfied: oauthlib>=3.0.0 in /usr/local/lib/python3.9/dist-packages (from requests-oauthlib>=0.7.0->google-auth-oauthlib<1.1,>=0.5->tensorboard>=2.5.0->recbole) (3.2.2)\n",
            "Installing collected packages: colorlog, colorama, thop, recbole\n",
            "Successfully installed colorama-0.4.4 colorlog-4.7.2 recbole-1.1.1 thop-0.1.1.post2209072238\n"
          ]
        }
      ],
      "source": [
        "!pip install recbole"
      ]
    },
    {
      "cell_type": "code",
      "execution_count": 2,
      "metadata": {
        "id": "sLGP5MqeLmog"
      },
      "outputs": [],
      "source": [
        "from google.colab import drive\n",
        "\n",
        "import zipfile\n",
        "\n",
        "import pandas\n",
        "\n",
        "import numpy"
      ]
    },
    {
      "cell_type": "code",
      "execution_count": 3,
      "metadata": {
        "colab": {
          "base_uri": "https://localhost:8080/"
        },
        "id": "rt5yLoc2L1ur",
        "outputId": "cf5dcb47-b740-4e12-a652-d911d77c2922"
      },
      "outputs": [
        {
          "output_type": "stream",
          "name": "stdout",
          "text": [
            "Mounted at /content/drive\n"
          ]
        }
      ],
      "source": [
        "drive.mount('/content/drive')"
      ]
    },
    {
      "cell_type": "markdown",
      "metadata": {
        "id": "0y-wd-oCL38H"
      },
      "source": [
        "# Load Data"
      ]
    },
    {
      "cell_type": "code",
      "execution_count": 28,
      "metadata": {
        "colab": {
          "base_uri": "https://localhost:8080/"
        },
        "id": "Lfs-d-iXL7oO",
        "outputId": "41f97c30-5352-4bad-c459-b39a196454ec"
      },
      "outputs": [
        {
          "output_type": "stream",
          "name": "stdout",
          "text": [
            "[Errno 2] No such file or directory: 'drive/MyDrive/Colab Notebooks/351/Project'\n",
            "/content/drive/MyDrive/Colab Notebooks/351/Project\n"
          ]
        }
      ],
      "source": [
        "%cd 'drive/MyDrive/Colab Notebooks/351/Project'"
      ]
    },
    {
      "cell_type": "code",
      "execution_count": 29,
      "metadata": {
        "colab": {
          "base_uri": "https://localhost:8080/",
          "height": 424
        },
        "id": "S34viwcIL9yd",
        "outputId": "007890b4-e8de-4376-d0e8-f751132323eb"
      },
      "outputs": [
        {
          "output_type": "execute_result",
          "data": {
            "text/plain": [
              "         user_id  item_id  click  follow  like  share video_category  \\\n",
              "0              1        1      1       0     0      0              1   \n",
              "1              1        2      1       0     0      0              1   \n",
              "2              1        3      1       0     0      0              0   \n",
              "3              1    80936      1       0     0      0              1   \n",
              "4              1      781      1       0     0      0              1   \n",
              "...          ...      ...    ...     ...   ...    ...            ...   \n",
              "1499995    32436    14085      1       0     0      0              1   \n",
              "1499996    32436     7034      1       0     0      0              0   \n",
              "1499997    32436   236774      1       0     0      0              1   \n",
              "1499998    32436     2982      1       0     0      0              0   \n",
              "1499999    32436     3576      1       0     0      0              1   \n",
              "\n",
              "         watching_times  gender  age  \n",
              "0                     1       1    4  \n",
              "1                     1       1    4  \n",
              "2                     1       1    4  \n",
              "3                     1       1    4  \n",
              "4                     1       1    4  \n",
              "...                 ...     ...  ...  \n",
              "1499995               2       1    3  \n",
              "1499996               1       1    3  \n",
              "1499997               1       1    3  \n",
              "1499998               4       1    3  \n",
              "1499999               4       1    3  \n",
              "\n",
              "[1500000 rows x 10 columns]"
            ],
            "text/html": [
              "\n",
              "  <div id=\"df-b1a937f8-a5d2-4806-93d8-b60705de70c2\">\n",
              "    <div class=\"colab-df-container\">\n",
              "      <div>\n",
              "<style scoped>\n",
              "    .dataframe tbody tr th:only-of-type {\n",
              "        vertical-align: middle;\n",
              "    }\n",
              "\n",
              "    .dataframe tbody tr th {\n",
              "        vertical-align: top;\n",
              "    }\n",
              "\n",
              "    .dataframe thead th {\n",
              "        text-align: right;\n",
              "    }\n",
              "</style>\n",
              "<table border=\"1\" class=\"dataframe\">\n",
              "  <thead>\n",
              "    <tr style=\"text-align: right;\">\n",
              "      <th></th>\n",
              "      <th>user_id</th>\n",
              "      <th>item_id</th>\n",
              "      <th>click</th>\n",
              "      <th>follow</th>\n",
              "      <th>like</th>\n",
              "      <th>share</th>\n",
              "      <th>video_category</th>\n",
              "      <th>watching_times</th>\n",
              "      <th>gender</th>\n",
              "      <th>age</th>\n",
              "    </tr>\n",
              "  </thead>\n",
              "  <tbody>\n",
              "    <tr>\n",
              "      <th>0</th>\n",
              "      <td>1</td>\n",
              "      <td>1</td>\n",
              "      <td>1</td>\n",
              "      <td>0</td>\n",
              "      <td>0</td>\n",
              "      <td>0</td>\n",
              "      <td>1</td>\n",
              "      <td>1</td>\n",
              "      <td>1</td>\n",
              "      <td>4</td>\n",
              "    </tr>\n",
              "    <tr>\n",
              "      <th>1</th>\n",
              "      <td>1</td>\n",
              "      <td>2</td>\n",
              "      <td>1</td>\n",
              "      <td>0</td>\n",
              "      <td>0</td>\n",
              "      <td>0</td>\n",
              "      <td>1</td>\n",
              "      <td>1</td>\n",
              "      <td>1</td>\n",
              "      <td>4</td>\n",
              "    </tr>\n",
              "    <tr>\n",
              "      <th>2</th>\n",
              "      <td>1</td>\n",
              "      <td>3</td>\n",
              "      <td>1</td>\n",
              "      <td>0</td>\n",
              "      <td>0</td>\n",
              "      <td>0</td>\n",
              "      <td>0</td>\n",
              "      <td>1</td>\n",
              "      <td>1</td>\n",
              "      <td>4</td>\n",
              "    </tr>\n",
              "    <tr>\n",
              "      <th>3</th>\n",
              "      <td>1</td>\n",
              "      <td>80936</td>\n",
              "      <td>1</td>\n",
              "      <td>0</td>\n",
              "      <td>0</td>\n",
              "      <td>0</td>\n",
              "      <td>1</td>\n",
              "      <td>1</td>\n",
              "      <td>1</td>\n",
              "      <td>4</td>\n",
              "    </tr>\n",
              "    <tr>\n",
              "      <th>4</th>\n",
              "      <td>1</td>\n",
              "      <td>781</td>\n",
              "      <td>1</td>\n",
              "      <td>0</td>\n",
              "      <td>0</td>\n",
              "      <td>0</td>\n",
              "      <td>1</td>\n",
              "      <td>1</td>\n",
              "      <td>1</td>\n",
              "      <td>4</td>\n",
              "    </tr>\n",
              "    <tr>\n",
              "      <th>...</th>\n",
              "      <td>...</td>\n",
              "      <td>...</td>\n",
              "      <td>...</td>\n",
              "      <td>...</td>\n",
              "      <td>...</td>\n",
              "      <td>...</td>\n",
              "      <td>...</td>\n",
              "      <td>...</td>\n",
              "      <td>...</td>\n",
              "      <td>...</td>\n",
              "    </tr>\n",
              "    <tr>\n",
              "      <th>1499995</th>\n",
              "      <td>32436</td>\n",
              "      <td>14085</td>\n",
              "      <td>1</td>\n",
              "      <td>0</td>\n",
              "      <td>0</td>\n",
              "      <td>0</td>\n",
              "      <td>1</td>\n",
              "      <td>2</td>\n",
              "      <td>1</td>\n",
              "      <td>3</td>\n",
              "    </tr>\n",
              "    <tr>\n",
              "      <th>1499996</th>\n",
              "      <td>32436</td>\n",
              "      <td>7034</td>\n",
              "      <td>1</td>\n",
              "      <td>0</td>\n",
              "      <td>0</td>\n",
              "      <td>0</td>\n",
              "      <td>0</td>\n",
              "      <td>1</td>\n",
              "      <td>1</td>\n",
              "      <td>3</td>\n",
              "    </tr>\n",
              "    <tr>\n",
              "      <th>1499997</th>\n",
              "      <td>32436</td>\n",
              "      <td>236774</td>\n",
              "      <td>1</td>\n",
              "      <td>0</td>\n",
              "      <td>0</td>\n",
              "      <td>0</td>\n",
              "      <td>1</td>\n",
              "      <td>1</td>\n",
              "      <td>1</td>\n",
              "      <td>3</td>\n",
              "    </tr>\n",
              "    <tr>\n",
              "      <th>1499998</th>\n",
              "      <td>32436</td>\n",
              "      <td>2982</td>\n",
              "      <td>1</td>\n",
              "      <td>0</td>\n",
              "      <td>0</td>\n",
              "      <td>0</td>\n",
              "      <td>0</td>\n",
              "      <td>4</td>\n",
              "      <td>1</td>\n",
              "      <td>3</td>\n",
              "    </tr>\n",
              "    <tr>\n",
              "      <th>1499999</th>\n",
              "      <td>32436</td>\n",
              "      <td>3576</td>\n",
              "      <td>1</td>\n",
              "      <td>0</td>\n",
              "      <td>0</td>\n",
              "      <td>0</td>\n",
              "      <td>1</td>\n",
              "      <td>4</td>\n",
              "      <td>1</td>\n",
              "      <td>3</td>\n",
              "    </tr>\n",
              "  </tbody>\n",
              "</table>\n",
              "<p>1500000 rows × 10 columns</p>\n",
              "</div>\n",
              "      <button class=\"colab-df-convert\" onclick=\"convertToInteractive('df-b1a937f8-a5d2-4806-93d8-b60705de70c2')\"\n",
              "              title=\"Convert this dataframe to an interactive table.\"\n",
              "              style=\"display:none;\">\n",
              "        \n",
              "  <svg xmlns=\"http://www.w3.org/2000/svg\" height=\"24px\"viewBox=\"0 0 24 24\"\n",
              "       width=\"24px\">\n",
              "    <path d=\"M0 0h24v24H0V0z\" fill=\"none\"/>\n",
              "    <path d=\"M18.56 5.44l.94 2.06.94-2.06 2.06-.94-2.06-.94-.94-2.06-.94 2.06-2.06.94zm-11 1L8.5 8.5l.94-2.06 2.06-.94-2.06-.94L8.5 2.5l-.94 2.06-2.06.94zm10 10l.94 2.06.94-2.06 2.06-.94-2.06-.94-.94-2.06-.94 2.06-2.06.94z\"/><path d=\"M17.41 7.96l-1.37-1.37c-.4-.4-.92-.59-1.43-.59-.52 0-1.04.2-1.43.59L10.3 9.45l-7.72 7.72c-.78.78-.78 2.05 0 2.83L4 21.41c.39.39.9.59 1.41.59.51 0 1.02-.2 1.41-.59l7.78-7.78 2.81-2.81c.8-.78.8-2.07 0-2.86zM5.41 20L4 18.59l7.72-7.72 1.47 1.35L5.41 20z\"/>\n",
              "  </svg>\n",
              "      </button>\n",
              "      \n",
              "  <style>\n",
              "    .colab-df-container {\n",
              "      display:flex;\n",
              "      flex-wrap:wrap;\n",
              "      gap: 12px;\n",
              "    }\n",
              "\n",
              "    .colab-df-convert {\n",
              "      background-color: #E8F0FE;\n",
              "      border: none;\n",
              "      border-radius: 50%;\n",
              "      cursor: pointer;\n",
              "      display: none;\n",
              "      fill: #1967D2;\n",
              "      height: 32px;\n",
              "      padding: 0 0 0 0;\n",
              "      width: 32px;\n",
              "    }\n",
              "\n",
              "    .colab-df-convert:hover {\n",
              "      background-color: #E2EBFA;\n",
              "      box-shadow: 0px 1px 2px rgba(60, 64, 67, 0.3), 0px 1px 3px 1px rgba(60, 64, 67, 0.15);\n",
              "      fill: #174EA6;\n",
              "    }\n",
              "\n",
              "    [theme=dark] .colab-df-convert {\n",
              "      background-color: #3B4455;\n",
              "      fill: #D2E3FC;\n",
              "    }\n",
              "\n",
              "    [theme=dark] .colab-df-convert:hover {\n",
              "      background-color: #434B5C;\n",
              "      box-shadow: 0px 1px 3px 1px rgba(0, 0, 0, 0.15);\n",
              "      filter: drop-shadow(0px 1px 2px rgba(0, 0, 0, 0.3));\n",
              "      fill: #FFFFFF;\n",
              "    }\n",
              "  </style>\n",
              "\n",
              "      <script>\n",
              "        const buttonEl =\n",
              "          document.querySelector('#df-b1a937f8-a5d2-4806-93d8-b60705de70c2 button.colab-df-convert');\n",
              "        buttonEl.style.display =\n",
              "          google.colab.kernel.accessAllowed ? 'block' : 'none';\n",
              "\n",
              "        async function convertToInteractive(key) {\n",
              "          const element = document.querySelector('#df-b1a937f8-a5d2-4806-93d8-b60705de70c2');\n",
              "          const dataTable =\n",
              "            await google.colab.kernel.invokeFunction('convertToInteractive',\n",
              "                                                     [key], {});\n",
              "          if (!dataTable) return;\n",
              "\n",
              "          const docLinkHtml = 'Like what you see? Visit the ' +\n",
              "            '<a target=\"_blank\" href=https://colab.research.google.com/notebooks/data_table.ipynb>data table notebook</a>'\n",
              "            + ' to learn more about interactive tables.';\n",
              "          element.innerHTML = '';\n",
              "          dataTable['output_type'] = 'display_data';\n",
              "          await google.colab.output.renderOutput(dataTable, element);\n",
              "          const docLink = document.createElement('div');\n",
              "          docLink.innerHTML = docLinkHtml;\n",
              "          element.appendChild(docLink);\n",
              "        }\n",
              "      </script>\n",
              "    </div>\n",
              "  </div>\n",
              "  "
            ]
          },
          "metadata": {},
          "execution_count": 29
        }
      ],
      "source": [
        "df = pandas.read_csv('Tenrec/sbr_data_1M.csv', nrows = 1500000)\n",
        "df"
      ]
    },
    {
      "cell_type": "code",
      "execution_count": 30,
      "metadata": {
        "id": "9swUw10hWBsw"
      },
      "outputs": [],
      "source": [
        "# Remove last user because there could be more rows that were cut off due to RAM limit\n",
        "df = df[df['user_id'] != 109973]"
      ]
    },
    {
      "cell_type": "code",
      "execution_count": 31,
      "metadata": {
        "colab": {
          "base_uri": "https://localhost:8080/",
          "height": 424
        },
        "id": "w4UDrzbcWP3L",
        "outputId": "388f6b74-543c-43b6-bc4d-b2c23f3a1405"
      },
      "outputs": [
        {
          "output_type": "execute_result",
          "data": {
            "text/plain": [
              "         user_id  item_id  click  follow  like  share video_category  \\\n",
              "0              1        1      1       0     0      0              1   \n",
              "1              1        2      1       0     0      0              1   \n",
              "2              1        3      1       0     0      0              0   \n",
              "3              1    80936      1       0     0      0              1   \n",
              "4              1      781      1       0     0      0              1   \n",
              "...          ...      ...    ...     ...   ...    ...            ...   \n",
              "1499995    32436    14085      1       0     0      0              1   \n",
              "1499996    32436     7034      1       0     0      0              0   \n",
              "1499997    32436   236774      1       0     0      0              1   \n",
              "1499998    32436     2982      1       0     0      0              0   \n",
              "1499999    32436     3576      1       0     0      0              1   \n",
              "\n",
              "         watching_times  gender  age  \n",
              "0                     1       1    4  \n",
              "1                     1       1    4  \n",
              "2                     1       1    4  \n",
              "3                     1       1    4  \n",
              "4                     1       1    4  \n",
              "...                 ...     ...  ...  \n",
              "1499995               2       1    3  \n",
              "1499996               1       1    3  \n",
              "1499997               1       1    3  \n",
              "1499998               4       1    3  \n",
              "1499999               4       1    3  \n",
              "\n",
              "[1500000 rows x 10 columns]"
            ],
            "text/html": [
              "\n",
              "  <div id=\"df-247860f3-e529-4f47-b87c-d3bb1c64c801\">\n",
              "    <div class=\"colab-df-container\">\n",
              "      <div>\n",
              "<style scoped>\n",
              "    .dataframe tbody tr th:only-of-type {\n",
              "        vertical-align: middle;\n",
              "    }\n",
              "\n",
              "    .dataframe tbody tr th {\n",
              "        vertical-align: top;\n",
              "    }\n",
              "\n",
              "    .dataframe thead th {\n",
              "        text-align: right;\n",
              "    }\n",
              "</style>\n",
              "<table border=\"1\" class=\"dataframe\">\n",
              "  <thead>\n",
              "    <tr style=\"text-align: right;\">\n",
              "      <th></th>\n",
              "      <th>user_id</th>\n",
              "      <th>item_id</th>\n",
              "      <th>click</th>\n",
              "      <th>follow</th>\n",
              "      <th>like</th>\n",
              "      <th>share</th>\n",
              "      <th>video_category</th>\n",
              "      <th>watching_times</th>\n",
              "      <th>gender</th>\n",
              "      <th>age</th>\n",
              "    </tr>\n",
              "  </thead>\n",
              "  <tbody>\n",
              "    <tr>\n",
              "      <th>0</th>\n",
              "      <td>1</td>\n",
              "      <td>1</td>\n",
              "      <td>1</td>\n",
              "      <td>0</td>\n",
              "      <td>0</td>\n",
              "      <td>0</td>\n",
              "      <td>1</td>\n",
              "      <td>1</td>\n",
              "      <td>1</td>\n",
              "      <td>4</td>\n",
              "    </tr>\n",
              "    <tr>\n",
              "      <th>1</th>\n",
              "      <td>1</td>\n",
              "      <td>2</td>\n",
              "      <td>1</td>\n",
              "      <td>0</td>\n",
              "      <td>0</td>\n",
              "      <td>0</td>\n",
              "      <td>1</td>\n",
              "      <td>1</td>\n",
              "      <td>1</td>\n",
              "      <td>4</td>\n",
              "    </tr>\n",
              "    <tr>\n",
              "      <th>2</th>\n",
              "      <td>1</td>\n",
              "      <td>3</td>\n",
              "      <td>1</td>\n",
              "      <td>0</td>\n",
              "      <td>0</td>\n",
              "      <td>0</td>\n",
              "      <td>0</td>\n",
              "      <td>1</td>\n",
              "      <td>1</td>\n",
              "      <td>4</td>\n",
              "    </tr>\n",
              "    <tr>\n",
              "      <th>3</th>\n",
              "      <td>1</td>\n",
              "      <td>80936</td>\n",
              "      <td>1</td>\n",
              "      <td>0</td>\n",
              "      <td>0</td>\n",
              "      <td>0</td>\n",
              "      <td>1</td>\n",
              "      <td>1</td>\n",
              "      <td>1</td>\n",
              "      <td>4</td>\n",
              "    </tr>\n",
              "    <tr>\n",
              "      <th>4</th>\n",
              "      <td>1</td>\n",
              "      <td>781</td>\n",
              "      <td>1</td>\n",
              "      <td>0</td>\n",
              "      <td>0</td>\n",
              "      <td>0</td>\n",
              "      <td>1</td>\n",
              "      <td>1</td>\n",
              "      <td>1</td>\n",
              "      <td>4</td>\n",
              "    </tr>\n",
              "    <tr>\n",
              "      <th>...</th>\n",
              "      <td>...</td>\n",
              "      <td>...</td>\n",
              "      <td>...</td>\n",
              "      <td>...</td>\n",
              "      <td>...</td>\n",
              "      <td>...</td>\n",
              "      <td>...</td>\n",
              "      <td>...</td>\n",
              "      <td>...</td>\n",
              "      <td>...</td>\n",
              "    </tr>\n",
              "    <tr>\n",
              "      <th>1499995</th>\n",
              "      <td>32436</td>\n",
              "      <td>14085</td>\n",
              "      <td>1</td>\n",
              "      <td>0</td>\n",
              "      <td>0</td>\n",
              "      <td>0</td>\n",
              "      <td>1</td>\n",
              "      <td>2</td>\n",
              "      <td>1</td>\n",
              "      <td>3</td>\n",
              "    </tr>\n",
              "    <tr>\n",
              "      <th>1499996</th>\n",
              "      <td>32436</td>\n",
              "      <td>7034</td>\n",
              "      <td>1</td>\n",
              "      <td>0</td>\n",
              "      <td>0</td>\n",
              "      <td>0</td>\n",
              "      <td>0</td>\n",
              "      <td>1</td>\n",
              "      <td>1</td>\n",
              "      <td>3</td>\n",
              "    </tr>\n",
              "    <tr>\n",
              "      <th>1499997</th>\n",
              "      <td>32436</td>\n",
              "      <td>236774</td>\n",
              "      <td>1</td>\n",
              "      <td>0</td>\n",
              "      <td>0</td>\n",
              "      <td>0</td>\n",
              "      <td>1</td>\n",
              "      <td>1</td>\n",
              "      <td>1</td>\n",
              "      <td>3</td>\n",
              "    </tr>\n",
              "    <tr>\n",
              "      <th>1499998</th>\n",
              "      <td>32436</td>\n",
              "      <td>2982</td>\n",
              "      <td>1</td>\n",
              "      <td>0</td>\n",
              "      <td>0</td>\n",
              "      <td>0</td>\n",
              "      <td>0</td>\n",
              "      <td>4</td>\n",
              "      <td>1</td>\n",
              "      <td>3</td>\n",
              "    </tr>\n",
              "    <tr>\n",
              "      <th>1499999</th>\n",
              "      <td>32436</td>\n",
              "      <td>3576</td>\n",
              "      <td>1</td>\n",
              "      <td>0</td>\n",
              "      <td>0</td>\n",
              "      <td>0</td>\n",
              "      <td>1</td>\n",
              "      <td>4</td>\n",
              "      <td>1</td>\n",
              "      <td>3</td>\n",
              "    </tr>\n",
              "  </tbody>\n",
              "</table>\n",
              "<p>1500000 rows × 10 columns</p>\n",
              "</div>\n",
              "      <button class=\"colab-df-convert\" onclick=\"convertToInteractive('df-247860f3-e529-4f47-b87c-d3bb1c64c801')\"\n",
              "              title=\"Convert this dataframe to an interactive table.\"\n",
              "              style=\"display:none;\">\n",
              "        \n",
              "  <svg xmlns=\"http://www.w3.org/2000/svg\" height=\"24px\"viewBox=\"0 0 24 24\"\n",
              "       width=\"24px\">\n",
              "    <path d=\"M0 0h24v24H0V0z\" fill=\"none\"/>\n",
              "    <path d=\"M18.56 5.44l.94 2.06.94-2.06 2.06-.94-2.06-.94-.94-2.06-.94 2.06-2.06.94zm-11 1L8.5 8.5l.94-2.06 2.06-.94-2.06-.94L8.5 2.5l-.94 2.06-2.06.94zm10 10l.94 2.06.94-2.06 2.06-.94-2.06-.94-.94-2.06-.94 2.06-2.06.94z\"/><path d=\"M17.41 7.96l-1.37-1.37c-.4-.4-.92-.59-1.43-.59-.52 0-1.04.2-1.43.59L10.3 9.45l-7.72 7.72c-.78.78-.78 2.05 0 2.83L4 21.41c.39.39.9.59 1.41.59.51 0 1.02-.2 1.41-.59l7.78-7.78 2.81-2.81c.8-.78.8-2.07 0-2.86zM5.41 20L4 18.59l7.72-7.72 1.47 1.35L5.41 20z\"/>\n",
              "  </svg>\n",
              "      </button>\n",
              "      \n",
              "  <style>\n",
              "    .colab-df-container {\n",
              "      display:flex;\n",
              "      flex-wrap:wrap;\n",
              "      gap: 12px;\n",
              "    }\n",
              "\n",
              "    .colab-df-convert {\n",
              "      background-color: #E8F0FE;\n",
              "      border: none;\n",
              "      border-radius: 50%;\n",
              "      cursor: pointer;\n",
              "      display: none;\n",
              "      fill: #1967D2;\n",
              "      height: 32px;\n",
              "      padding: 0 0 0 0;\n",
              "      width: 32px;\n",
              "    }\n",
              "\n",
              "    .colab-df-convert:hover {\n",
              "      background-color: #E2EBFA;\n",
              "      box-shadow: 0px 1px 2px rgba(60, 64, 67, 0.3), 0px 1px 3px 1px rgba(60, 64, 67, 0.15);\n",
              "      fill: #174EA6;\n",
              "    }\n",
              "\n",
              "    [theme=dark] .colab-df-convert {\n",
              "      background-color: #3B4455;\n",
              "      fill: #D2E3FC;\n",
              "    }\n",
              "\n",
              "    [theme=dark] .colab-df-convert:hover {\n",
              "      background-color: #434B5C;\n",
              "      box-shadow: 0px 1px 3px 1px rgba(0, 0, 0, 0.15);\n",
              "      filter: drop-shadow(0px 1px 2px rgba(0, 0, 0, 0.3));\n",
              "      fill: #FFFFFF;\n",
              "    }\n",
              "  </style>\n",
              "\n",
              "      <script>\n",
              "        const buttonEl =\n",
              "          document.querySelector('#df-247860f3-e529-4f47-b87c-d3bb1c64c801 button.colab-df-convert');\n",
              "        buttonEl.style.display =\n",
              "          google.colab.kernel.accessAllowed ? 'block' : 'none';\n",
              "\n",
              "        async function convertToInteractive(key) {\n",
              "          const element = document.querySelector('#df-247860f3-e529-4f47-b87c-d3bb1c64c801');\n",
              "          const dataTable =\n",
              "            await google.colab.kernel.invokeFunction('convertToInteractive',\n",
              "                                                     [key], {});\n",
              "          if (!dataTable) return;\n",
              "\n",
              "          const docLinkHtml = 'Like what you see? Visit the ' +\n",
              "            '<a target=\"_blank\" href=https://colab.research.google.com/notebooks/data_table.ipynb>data table notebook</a>'\n",
              "            + ' to learn more about interactive tables.';\n",
              "          element.innerHTML = '';\n",
              "          dataTable['output_type'] = 'display_data';\n",
              "          await google.colab.output.renderOutput(dataTable, element);\n",
              "          const docLink = document.createElement('div');\n",
              "          docLink.innerHTML = docLinkHtml;\n",
              "          element.appendChild(docLink);\n",
              "        }\n",
              "      </script>\n",
              "    </div>\n",
              "  </div>\n",
              "  "
            ]
          },
          "metadata": {},
          "execution_count": 31
        }
      ],
      "source": [
        "df"
      ]
    },
    {
      "cell_type": "markdown",
      "metadata": {
        "id": "oCK5emLJMRmq"
      },
      "source": [
        "# Data Exploration"
      ]
    },
    {
      "cell_type": "markdown",
      "metadata": {
        "id": "b841iaU7MXvk"
      },
      "source": [
        "Fix video_category column"
      ]
    },
    {
      "cell_type": "code",
      "execution_count": 32,
      "metadata": {
        "colab": {
          "base_uri": "https://localhost:8080/"
        },
        "id": "M70Z2ugMMZyY",
        "outputId": "9828b434-506d-44dd-af8d-5482c5dd1373"
      },
      "outputs": [
        {
          "output_type": "execute_result",
          "data": {
            "text/plain": [
              "array(['1', '0', '\\\\N'], dtype=object)"
            ]
          },
          "metadata": {},
          "execution_count": 32
        }
      ],
      "source": [
        "df['video_category'].unique()"
      ]
    },
    {
      "cell_type": "code",
      "execution_count": 33,
      "metadata": {
        "id": "nV0n0dbsMcSI"
      },
      "outputs": [],
      "source": [
        "df['video_category'] = numpy.where(df['video_category'] == '1', 1, df['video_category'])\n",
        "df['video_category'] = numpy.where(df['video_category'] == '0', 0, df['video_category'])\n",
        "df['video_category'] = numpy.where(df['video_category'] == '\\\\N', numpy.nan, df['video_category'])\n",
        "df['video_category'] = df['video_category'].astype('float')"
      ]
    },
    {
      "cell_type": "code",
      "execution_count": 34,
      "metadata": {
        "colab": {
          "base_uri": "https://localhost:8080/"
        },
        "id": "E8ryNWtgMeVA",
        "outputId": "573f4144-ac02-4816-83ff-7c3b8dc4e6aa"
      },
      "outputs": [
        {
          "output_type": "stream",
          "name": "stdout",
          "text": [
            "user_id\n",
            "unique values: 32436\n",
            "\n",
            "item_id\n",
            "unique values: 276483\n",
            "\n",
            "click\n",
            "unique values: 1\n",
            "\n",
            "follow\n",
            "unique values: 2\n",
            "\n",
            "like\n",
            "unique values: 2\n",
            "\n",
            "share\n",
            "unique values: 2\n",
            "\n",
            "video_category\n",
            "unique values: 3\n",
            "\n",
            "watching_times\n",
            "unique values: 184\n",
            "\n",
            "gender\n",
            "unique values: 3\n",
            "\n",
            "age\n",
            "unique values: 8\n",
            "\n"
          ]
        }
      ],
      "source": [
        "for c in df.columns:\n",
        "  print(c)\n",
        "  print('unique values:', numpy.unique(df[c]).shape[0])\n",
        "  print()"
      ]
    },
    {
      "cell_type": "markdown",
      "metadata": {
        "id": "1XyLnP_YMxua"
      },
      "source": [
        "Note: The rows do not represent users, they represent behaviours/interactions with different items (videos)."
      ]
    },
    {
      "cell_type": "markdown",
      "metadata": {
        "id": "9HOabGFOEPdm"
      },
      "source": [
        "# Pre-Processing"
      ]
    },
    {
      "cell_type": "code",
      "execution_count": 35,
      "metadata": {
        "id": "TR8hop0nwXKB"
      },
      "outputs": [],
      "source": [
        "df['timestamp'] = df.index\n",
        "\n",
        "mapping = {'user_id': 'user_id:token', 'item_id': 'item_id:token', 'timestamp': 'timestamp:float'}\n",
        "df = df.rename(columns = mapping)"
      ]
    },
    {
      "cell_type": "code",
      "source": [
        "# Only keep users with 35 to 55 rows\n",
        "for user in numpy.unique(df['user_id:token']):\n",
        "  if len(df[df['user_id:token'] == user]) not in range(35, 56):\n",
        "    df = df.drop(df[df['user_id:token'] == user].index)"
      ],
      "metadata": {
        "id": "WC5MnPoesBcH"
      },
      "execution_count": 39,
      "outputs": []
    },
    {
      "cell_type": "code",
      "execution_count": 40,
      "metadata": {
        "id": "2LoQkcKQiG0x"
      },
      "outputs": [],
      "source": [
        "# Split dataset according to age\n",
        "df_ages = []\n",
        "df_ages.append(df[df['age'] == 0])\n",
        "df_ages.append(df[df['age'] == 1])\n",
        "df_ages.append(df[df['age'] == 2])\n",
        "df_ages.append(df[df['age'] == 3])\n",
        "df_ages.append(df[df['age'] == 4])\n",
        "df_ages.append(df[df['age'] == 5])\n",
        "df_ages.append(df[df['age'] == 6])\n",
        "df_ages.append(df[df['age'] == 7])\n",
        "\n",
        "# Split dataset according to gender\n",
        "df_genders = []\n",
        "df_genders.append(df[df['gender'] == 0])\n",
        "df_genders.append(df[df['gender'] == 1])\n",
        "df_genders.append(df[df['gender'] == 2])\n",
        "\n",
        "# Remove some features from subsets\n",
        "for i in range(len(df_ages)):\n",
        "  df_ages[i] = df_ages[i].drop(columns = ['click', 'follow', 'like', 'share', 'video_category', 'watching_times', 'age', 'gender'])\n",
        "for i in range(len(df_genders)):\n",
        "  df_genders[i] = df_genders[i].drop(columns = ['click', 'follow', 'like', 'share', 'video_category', 'watching_times', 'age', 'gender'])\n",
        "\n",
        "df_all = df.drop(columns = ['click', 'follow', 'like', 'share', 'video_category', 'watching_times', 'age', 'gender'])"
      ]
    },
    {
      "cell_type": "code",
      "execution_count": 41,
      "metadata": {
        "colab": {
          "base_uri": "https://localhost:8080/"
        },
        "id": "xHCb4VMOjyb8",
        "outputId": "227969bd-6395-4b11-a7c5-70a49b0a6c77"
      },
      "outputs": [
        {
          "output_type": "stream",
          "name": "stdout",
          "text": [
            "age = 0\n",
            "\tnumber of rows: 56597\n",
            "\tunique users:   1284\n",
            "\tunique items:   31742\n",
            "age = 1\n",
            "\tnumber of rows: 3332\n",
            "\tunique users:   75\n",
            "\tunique items:   2842\n",
            "age = 2\n",
            "\tnumber of rows: 72596\n",
            "\tunique users:   1656\n",
            "\tunique items:   33247\n",
            "age = 3\n",
            "\tnumber of rows: 99289\n",
            "\tunique users:   2260\n",
            "\tunique items:   43509\n",
            "age = 4\n",
            "\tnumber of rows: 63813\n",
            "\tunique users:   1459\n",
            "\tunique items:   33726\n",
            "age = 5\n",
            "\tnumber of rows: 9825\n",
            "\tunique users:   224\n",
            "\tunique items:   7819\n",
            "age = 6\n",
            "\tnumber of rows: 2077\n",
            "\tunique users:   47\n",
            "\tunique items:   1871\n",
            "age = 7\n",
            "\tnumber of rows: 88\n",
            "\tunique users:   2\n",
            "\tunique items:   88\n",
            "\n",
            "gender = 0\n",
            "\tnumber of rows: 57045\n",
            "\tunique users:   1294\n",
            "\tunique items:   31892\n",
            "gender = 1\n",
            "\tnumber of rows: 184771\n",
            "\tunique users:   4204\n",
            "\tunique items:   65649\n",
            "gender = 2\n",
            "\tnumber of rows: 65801\n",
            "\tunique users:   1509\n",
            "\tunique items:   33931\n"
          ]
        }
      ],
      "source": [
        "# Print sizes of subsets\n",
        "for i in range(len(df_ages)):\n",
        "  print('age = ' + str(i))\n",
        "  print('\\tnumber of rows: ' + str(df_ages[i].shape[0]))\n",
        "  print('\\tunique users:   ' + str(numpy.unique(df_ages[i]['user_id:token']).shape[0]))\n",
        "  print('\\tunique items:   ' + str(numpy.unique(df_ages[i]['item_id:token']).shape[0]))\n",
        "\n",
        "print()\n",
        "\n",
        "for i in range(len(df_genders)):\n",
        "  print('gender = ' + str(i))\n",
        "  print('\\tnumber of rows: ' + str(df_genders[i].shape[0]))\n",
        "  print('\\tunique users:   ' + str(numpy.unique(df_genders[i]['user_id:token']).shape[0]))\n",
        "  print('\\tunique items:   ' + str(numpy.unique(df_genders[i]['item_id:token']).shape[0]))"
      ]
    },
    {
      "cell_type": "markdown",
      "metadata": {
        "id": "OkGE3h0TS_1l"
      },
      "source": [
        "# Modeling"
      ]
    },
    {
      "cell_type": "code",
      "execution_count": 15,
      "metadata": {
        "id": "FHnP1zurTJ_u"
      },
      "outputs": [],
      "source": [
        "from recbole.config import Config\n",
        "from recbole.data import create_dataset, data_preparation\n",
        "from recbole.model.sequential_recommender import GRU4Rec, BERT4Rec\n",
        "from recbole.trainer import Trainer\n",
        "from recbole.utils import init_seed\n",
        "\n",
        "from recbole.utils.case_study import full_sort_topk"
      ]
    },
    {
      "cell_type": "markdown",
      "source": [
        "## GRU4Rec"
      ],
      "metadata": {
        "id": "q_SMplmNTZGq"
      }
    },
    {
      "cell_type": "code",
      "execution_count": 69,
      "metadata": {
        "id": "0TPgsQZR3Rpa"
      },
      "outputs": [],
      "source": [
        "MAX_ITEM = 20\n",
        "\n",
        "parameter_dict = {\n",
        "    'data_path': '/content/drive/MyDrive/Colab Notebooks/351/Project',\n",
        "    'USER_ID_FIELD': 'user_id',\n",
        "    'ITEM_ID_FIELD': 'item_id',\n",
        "    'TIME_FIELD': 'timestamp',\n",
        "    'user_inter_num_interval': '[0,Inf)',\n",
        "    'item_inter_num_interval': '[0,Inf)',\n",
        "    'load_col': {'inter': ['user_id', 'item_id', 'timestamp'], 'item': ['item_id', 'item_emb']},\n",
        "    'train_neg_sample_args': None,\n",
        "    'epochs': 10,\n",
        "    'stopping_step': 3,\n",
        "    'eval_batch_size': 1024,\n",
        "    'train_batch_size': 1024,\n",
        "    'MAX_ITEM_LIST_LENGTH': MAX_ITEM,\n",
        "    'eval_args': {\n",
        "        'split': {'RS': [9, 1, 0]},\n",
        "        'group_by': 'user',\n",
        "        'order': 'TO',\n",
        "        'mode': 'full'},\n",
        "    'shuffle': False\n",
        "}\n",
        "\n",
        "config = Config(model = 'GRU4Rec', dataset = 'data', config_dict = parameter_dict)\n",
        "\n",
        "init_seed(config['seed'], config['reproducibility'])"
      ]
    },
    {
      "cell_type": "code",
      "source": [
        "data = df_all\n",
        "data.to_csv('data/data.inter', index = False, sep = '\\t')\n",
        "\n",
        "dataset = create_dataset(config)\n",
        "\n",
        "train_data, valid_data, test_data = data_preparation(config, dataset)\n",
        "\n",
        "model = GRU4Rec(config, train_data.dataset).to(config['device'])\n",
        "trainer = Trainer(config, model)\n",
        "best_valid_score, best_valid_result = trainer.fit(train_data, valid_data)\n",
        "\n",
        "print(best_valid_score)\n",
        "print(best_valid_result)"
      ],
      "metadata": {
        "colab": {
          "base_uri": "https://localhost:8080/",
          "height": 380
        },
        "id": "llLUL4cd3Qan",
        "outputId": "24fb7445-5f7d-4261-8643-414bc15a2c0c"
      },
      "execution_count": 70,
      "outputs": [
        {
          "output_type": "error",
          "ename": "KeyboardInterrupt",
          "evalue": "ignored",
          "traceback": [
            "\u001b[0;31m---------------------------------------------------------------------------\u001b[0m",
            "\u001b[0;31mKeyboardInterrupt\u001b[0m                         Traceback (most recent call last)",
            "\u001b[0;32m<ipython-input-70-d549539c1094>\u001b[0m in \u001b[0;36m<cell line: 10>\u001b[0;34m()\u001b[0m\n\u001b[1;32m      8\u001b[0m \u001b[0mmodel\u001b[0m \u001b[0;34m=\u001b[0m \u001b[0mGRU4Rec\u001b[0m\u001b[0;34m(\u001b[0m\u001b[0mconfig\u001b[0m\u001b[0;34m,\u001b[0m \u001b[0mtrain_data\u001b[0m\u001b[0;34m.\u001b[0m\u001b[0mdataset\u001b[0m\u001b[0;34m)\u001b[0m\u001b[0;34m.\u001b[0m\u001b[0mto\u001b[0m\u001b[0;34m(\u001b[0m\u001b[0mconfig\u001b[0m\u001b[0;34m[\u001b[0m\u001b[0;34m'device'\u001b[0m\u001b[0;34m]\u001b[0m\u001b[0;34m)\u001b[0m\u001b[0;34m\u001b[0m\u001b[0;34m\u001b[0m\u001b[0m\n\u001b[1;32m      9\u001b[0m \u001b[0mtrainer\u001b[0m \u001b[0;34m=\u001b[0m \u001b[0mTrainer\u001b[0m\u001b[0;34m(\u001b[0m\u001b[0mconfig\u001b[0m\u001b[0;34m,\u001b[0m \u001b[0mmodel\u001b[0m\u001b[0;34m)\u001b[0m\u001b[0;34m\u001b[0m\u001b[0;34m\u001b[0m\u001b[0m\n\u001b[0;32m---> 10\u001b[0;31m \u001b[0mbest_valid_score\u001b[0m\u001b[0;34m,\u001b[0m \u001b[0mbest_valid_result\u001b[0m \u001b[0;34m=\u001b[0m \u001b[0mtrainer\u001b[0m\u001b[0;34m.\u001b[0m\u001b[0mfit\u001b[0m\u001b[0;34m(\u001b[0m\u001b[0mtrain_data\u001b[0m\u001b[0;34m,\u001b[0m \u001b[0mvalid_data\u001b[0m\u001b[0;34m)\u001b[0m\u001b[0;34m\u001b[0m\u001b[0;34m\u001b[0m\u001b[0m\n\u001b[0m\u001b[1;32m     11\u001b[0m \u001b[0;34m\u001b[0m\u001b[0m\n\u001b[1;32m     12\u001b[0m \u001b[0mprint\u001b[0m\u001b[0;34m(\u001b[0m\u001b[0mbest_valid_score\u001b[0m\u001b[0;34m)\u001b[0m\u001b[0;34m\u001b[0m\u001b[0;34m\u001b[0m\u001b[0m\n",
            "\u001b[0;32m/usr/local/lib/python3.9/dist-packages/recbole/trainer/trainer.py\u001b[0m in \u001b[0;36mfit\u001b[0;34m(self, train_data, valid_data, verbose, saved, show_progress, callback_fn)\u001b[0m\n\u001b[1;32m    438\u001b[0m             \u001b[0;31m# train\u001b[0m\u001b[0;34m\u001b[0m\u001b[0;34m\u001b[0m\u001b[0m\n\u001b[1;32m    439\u001b[0m             \u001b[0mtraining_start_time\u001b[0m \u001b[0;34m=\u001b[0m \u001b[0mtime\u001b[0m\u001b[0;34m(\u001b[0m\u001b[0;34m)\u001b[0m\u001b[0;34m\u001b[0m\u001b[0;34m\u001b[0m\u001b[0m\n\u001b[0;32m--> 440\u001b[0;31m             train_loss = self._train_epoch(\n\u001b[0m\u001b[1;32m    441\u001b[0m                 \u001b[0mtrain_data\u001b[0m\u001b[0;34m,\u001b[0m \u001b[0mepoch_idx\u001b[0m\u001b[0;34m,\u001b[0m \u001b[0mshow_progress\u001b[0m\u001b[0;34m=\u001b[0m\u001b[0mshow_progress\u001b[0m\u001b[0;34m\u001b[0m\u001b[0;34m\u001b[0m\u001b[0m\n\u001b[1;32m    442\u001b[0m             )\n",
            "\u001b[0;32m/usr/local/lib/python3.9/dist-packages/recbole/trainer/trainer.py\u001b[0m in \u001b[0;36m_train_epoch\u001b[0;34m(self, train_data, epoch_idx, loss_func, show_progress)\u001b[0m\n\u001b[1;32m    244\u001b[0m \u001b[0;34m\u001b[0m\u001b[0m\n\u001b[1;32m    245\u001b[0m             \u001b[0;32mwith\u001b[0m \u001b[0mtorch\u001b[0m\u001b[0;34m.\u001b[0m\u001b[0mautocast\u001b[0m\u001b[0;34m(\u001b[0m\u001b[0mdevice_type\u001b[0m\u001b[0;34m=\u001b[0m\u001b[0mself\u001b[0m\u001b[0;34m.\u001b[0m\u001b[0mdevice\u001b[0m\u001b[0;34m.\u001b[0m\u001b[0mtype\u001b[0m\u001b[0;34m,\u001b[0m \u001b[0menabled\u001b[0m\u001b[0;34m=\u001b[0m\u001b[0mself\u001b[0m\u001b[0;34m.\u001b[0m\u001b[0menable_amp\u001b[0m\u001b[0;34m)\u001b[0m\u001b[0;34m:\u001b[0m\u001b[0;34m\u001b[0m\u001b[0;34m\u001b[0m\u001b[0m\n\u001b[0;32m--> 246\u001b[0;31m                 \u001b[0mlosses\u001b[0m \u001b[0;34m=\u001b[0m \u001b[0mloss_func\u001b[0m\u001b[0;34m(\u001b[0m\u001b[0minteraction\u001b[0m\u001b[0;34m)\u001b[0m\u001b[0;34m\u001b[0m\u001b[0;34m\u001b[0m\u001b[0m\n\u001b[0m\u001b[1;32m    247\u001b[0m \u001b[0;34m\u001b[0m\u001b[0m\n\u001b[1;32m    248\u001b[0m             \u001b[0;32mif\u001b[0m \u001b[0misinstance\u001b[0m\u001b[0;34m(\u001b[0m\u001b[0mlosses\u001b[0m\u001b[0;34m,\u001b[0m \u001b[0mtuple\u001b[0m\u001b[0;34m)\u001b[0m\u001b[0;34m:\u001b[0m\u001b[0;34m\u001b[0m\u001b[0;34m\u001b[0m\u001b[0m\n",
            "\u001b[0;32m/usr/local/lib/python3.9/dist-packages/recbole/model/sequential_recommender/gru4rec.py\u001b[0m in \u001b[0;36mcalculate_loss\u001b[0;34m(self, interaction)\u001b[0m\n\u001b[1;32m    100\u001b[0m         \u001b[0;32melse\u001b[0m\u001b[0;34m:\u001b[0m  \u001b[0;31m# self.loss_type = 'CE'\u001b[0m\u001b[0;34m\u001b[0m\u001b[0;34m\u001b[0m\u001b[0m\n\u001b[1;32m    101\u001b[0m             \u001b[0mtest_item_emb\u001b[0m \u001b[0;34m=\u001b[0m \u001b[0mself\u001b[0m\u001b[0;34m.\u001b[0m\u001b[0mitem_embedding\u001b[0m\u001b[0;34m.\u001b[0m\u001b[0mweight\u001b[0m\u001b[0;34m\u001b[0m\u001b[0;34m\u001b[0m\u001b[0m\n\u001b[0;32m--> 102\u001b[0;31m             \u001b[0mlogits\u001b[0m \u001b[0;34m=\u001b[0m \u001b[0mtorch\u001b[0m\u001b[0;34m.\u001b[0m\u001b[0mmatmul\u001b[0m\u001b[0;34m(\u001b[0m\u001b[0mseq_output\u001b[0m\u001b[0;34m,\u001b[0m \u001b[0mtest_item_emb\u001b[0m\u001b[0;34m.\u001b[0m\u001b[0mtranspose\u001b[0m\u001b[0;34m(\u001b[0m\u001b[0;36m0\u001b[0m\u001b[0;34m,\u001b[0m \u001b[0;36m1\u001b[0m\u001b[0;34m)\u001b[0m\u001b[0;34m)\u001b[0m\u001b[0;34m\u001b[0m\u001b[0;34m\u001b[0m\u001b[0m\n\u001b[0m\u001b[1;32m    103\u001b[0m             \u001b[0mloss\u001b[0m \u001b[0;34m=\u001b[0m \u001b[0mself\u001b[0m\u001b[0;34m.\u001b[0m\u001b[0mloss_fct\u001b[0m\u001b[0;34m(\u001b[0m\u001b[0mlogits\u001b[0m\u001b[0;34m,\u001b[0m \u001b[0mpos_items\u001b[0m\u001b[0;34m)\u001b[0m\u001b[0;34m\u001b[0m\u001b[0;34m\u001b[0m\u001b[0m\n\u001b[1;32m    104\u001b[0m             \u001b[0;32mreturn\u001b[0m \u001b[0mloss\u001b[0m\u001b[0;34m\u001b[0m\u001b[0;34m\u001b[0m\u001b[0m\n",
            "\u001b[0;31mKeyboardInterrupt\u001b[0m: "
          ]
        }
      ]
    },
    {
      "cell_type": "code",
      "source": [
        "for i in range(len(df_ages)):\n",
        "  data = df_ages[i]\n",
        "  data.to_csv('data/data.inter', index = False, sep = '\\t')\n",
        "\n",
        "  dataset = create_dataset(config)\n",
        "\n",
        "  train_data, valid_data, test_data = data_preparation(config, dataset)\n",
        "\n",
        "  model = GRU4Rec(config, train_data.dataset).to(config['device'])\n",
        "  trainer = Trainer(config, model)\n",
        "  best_valid_score, best_valid_result = trainer.fit(train_data, valid_data)\n",
        "\n",
        "  print(i)\n",
        "  print(best_valid_score)\n",
        "  print(best_valid_result)\n",
        "  print()"
      ],
      "metadata": {
        "colab": {
          "base_uri": "https://localhost:8080/"
        },
        "id": "-RxZvYrgS1YB",
        "outputId": "4ffa6800-2efe-4439-bf50-b8bf8f3b1183"
      },
      "execution_count": 71,
      "outputs": [
        {
          "output_type": "stream",
          "name": "stdout",
          "text": [
            "0\n",
            "0.0039\n",
            "OrderedDict([('recall@10', 0.0103), ('mrr@10', 0.0039), ('ndcg@10', 0.0054), ('hit@10', 0.0103), ('precision@10', 0.001)])\n",
            "\n",
            "1\n",
            "0.0065\n",
            "OrderedDict([('recall@10', 0.0172), ('mrr@10', 0.0065), ('ndcg@10', 0.0091), ('hit@10', 0.0172), ('precision@10', 0.0017)])\n",
            "\n",
            "2\n",
            "0.0049\n",
            "OrderedDict([('recall@10', 0.0141), ('mrr@10', 0.0049), ('ndcg@10', 0.007), ('hit@10', 0.0141), ('precision@10', 0.0014)])\n",
            "\n",
            "3\n",
            "0.004\n",
            "OrderedDict([('recall@10', 0.0118), ('mrr@10', 0.004), ('ndcg@10', 0.0058), ('hit@10', 0.0118), ('precision@10', 0.0012)])\n",
            "\n",
            "4\n",
            "0.0044\n",
            "OrderedDict([('recall@10', 0.0126), ('mrr@10', 0.0044), ('ndcg@10', 0.0063), ('hit@10', 0.0126), ('precision@10', 0.0013)])\n",
            "\n",
            "5\n",
            "0.0037\n",
            "OrderedDict([('recall@10', 0.007), ('mrr@10', 0.0037), ('ndcg@10', 0.0045), ('hit@10', 0.007), ('precision@10', 0.0007)])\n",
            "\n",
            "6\n",
            "0.0\n",
            "OrderedDict([('recall@10', 0.0), ('mrr@10', 0.0), ('ndcg@10', 0.0), ('hit@10', 0.0), ('precision@10', 0.0)])\n",
            "\n",
            "7\n",
            "0.0\n",
            "OrderedDict([('recall@10', 0.0), ('mrr@10', 0.0), ('ndcg@10', 0.0), ('hit@10', 0.0), ('precision@10', 0.0)])\n",
            "\n"
          ]
        }
      ]
    },
    {
      "cell_type": "markdown",
      "source": [
        "## BERT4Rec"
      ],
      "metadata": {
        "id": "BZGp-GDJTSNA"
      }
    },
    {
      "cell_type": "code",
      "source": [
        "MAX_ITEM = 20\n",
        "\n",
        "parameter_dict = {\n",
        "    'data_path': '/content/drive/MyDrive/Colab Notebooks/351/Project',\n",
        "    'USER_ID_FIELD': 'user_id',\n",
        "    'ITEM_ID_FIELD': 'item_id',\n",
        "    'TIME_FIELD': 'timestamp',\n",
        "    'user_inter_num_interval': '[1,Inf)',\n",
        "    'item_inter_num_interval': '[1,Inf)',\n",
        "    'load_col': {'inter': ['user_id', 'item_id', 'timestamp'], 'item': ['item_id', 'item_emb']},\n",
        "    'train_neg_sample_args': None,\n",
        "    'epochs': 10,\n",
        "    'stopping_step': 3,\n",
        "    'eval_batch_size': 1024,\n",
        "    'train_batch_size': 1024,\n",
        "    'MAX_ITEM_LIST_LENGTH': MAX_ITEM,\n",
        "    'eval_args': {\n",
        "        'split': {'RS': [9, 1, 0]},\n",
        "        'group_by': 'user',\n",
        "        'order': 'TO',\n",
        "        'mode': 'full'},\n",
        "    'shuffle': False\n",
        "}\n",
        "\n",
        "config = Config(model = 'BERT4Rec', dataset = 'data', config_dict = parameter_dict)\n",
        "\n",
        "init_seed(config['seed'], config['reproducibility'])"
      ],
      "metadata": {
        "id": "pLJnnB-OTVD6"
      },
      "execution_count": 72,
      "outputs": []
    },
    {
      "cell_type": "code",
      "source": [
        "data = df_all\n",
        "data.to_csv('data/data.inter', index = False, sep = '\\t')\n",
        "\n",
        "dataset = create_dataset(config)\n",
        "\n",
        "train_data, valid_data, test_data = data_preparation(config, dataset)\n",
        "\n",
        "model = BERT4Rec(config, train_data.dataset).to(config['device'])\n",
        "trainer = Trainer(config, model)\n",
        "best_valid_score, best_valid_result = trainer.fit(train_data, valid_data)\n",
        "\n",
        "print(best_valid_score)\n",
        "print(best_valid_result)"
      ],
      "metadata": {
        "id": "Nl5WX6KgTf-H"
      },
      "execution_count": null,
      "outputs": []
    },
    {
      "cell_type": "code",
      "source": [
        "for i in range(len(df_ages)):\n",
        "  data = df_ages[i]\n",
        "  data.to_csv('data/data.inter', index = False, sep = '\\t')\n",
        "\n",
        "  dataset = create_dataset(config)\n",
        "\n",
        "  train_data, valid_data, test_data = data_preparation(config, dataset)\n",
        "\n",
        "  model = BERT4Rec(config, train_data.dataset).to(config['device'])\n",
        "  trainer = Trainer(config, model)\n",
        "  best_valid_score, best_valid_result = trainer.fit(train_data, valid_data)\n",
        "\n",
        "  print(i)\n",
        "  print(best_valid_score)\n",
        "  print(best_valid_result)\n",
        "  print()"
      ],
      "metadata": {
        "colab": {
          "base_uri": "https://localhost:8080/"
        },
        "id": "TV6K-GPvTi-n",
        "outputId": "97a5082d-f1ab-4ea8-d0fa-ec001840757e"
      },
      "execution_count": null,
      "outputs": [
        {
          "output_type": "stream",
          "name": "stdout",
          "text": [
            "0\n",
            "0.0039\n",
            "OrderedDict([('recall@10', 0.0101), ('mrr@10', 0.0039), ('ndcg@10', 0.0053), ('hit@10', 0.0101), ('precision@10', 0.001)])\n",
            "\n",
            "1\n",
            "0.0025\n",
            "OrderedDict([('recall@10', 0.0172), ('mrr@10', 0.0025), ('ndcg@10', 0.0058), ('hit@10', 0.0172), ('precision@10', 0.0017)])\n",
            "\n"
          ]
        }
      ]
    }
  ],
  "metadata": {
    "colab": {
      "collapsed_sections": [
        "12yswsMPLxiu",
        "0y-wd-oCL38H",
        "oCK5emLJMRmq",
        "eCTTZMNqNC30"
      ],
      "provenance": []
    },
    "kernelspec": {
      "display_name": "Python 3",
      "name": "python3"
    },
    "language_info": {
      "name": "python"
    }
  },
  "nbformat": 4,
  "nbformat_minor": 0
}