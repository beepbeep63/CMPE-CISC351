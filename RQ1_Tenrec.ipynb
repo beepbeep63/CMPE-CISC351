{
  "cells": [
    {
      "cell_type": "markdown",
      "metadata": {
        "id": "view-in-github",
        "colab_type": "text"
      },
      "source": [
        "<a href=\"https://colab.research.google.com/github/beepbeep63/CMPE-CISC351/blob/main/RQ1_Tenrec.ipynb\" target=\"_parent\"><img src=\"https://colab.research.google.com/assets/colab-badge.svg\" alt=\"Open In Colab\"/></a>"
      ]
    },
    {
      "cell_type": "markdown",
      "id": "f3a26a25",
      "metadata": {
        "papermill": {
          "duration": 0.005125,
          "end_time": "2022-12-18T23:41:55.285522",
          "exception": false,
          "start_time": "2022-12-18T23:41:55.280397",
          "status": "completed"
        },
        "tags": [],
        "id": "f3a26a25"
      },
      "source": [
        "# 0. Download and Mount\n",
        "Based on the following code:\n",
        "https://www.kaggle.com/code/astrung/recbole-lstm-sequential-for-recomendation-tutorial"
      ]
    },
    {
      "cell_type": "code",
      "execution_count": 1,
      "id": "02bd31bd",
      "metadata": {
        "execution": {
          "iopub.execute_input": "2022-12-18T23:41:55.294943Z",
          "iopub.status.busy": "2022-12-18T23:41:55.294543Z",
          "iopub.status.idle": "2022-12-18T23:42:07.739344Z",
          "shell.execute_reply": "2022-12-18T23:42:07.738169Z"
        },
        "papermill": {
          "duration": 12.452762,
          "end_time": "2022-12-18T23:42:07.742275",
          "exception": false,
          "start_time": "2022-12-18T23:41:55.289513",
          "status": "completed"
        },
        "tags": [],
        "id": "02bd31bd",
        "colab": {
          "base_uri": "https://localhost:8080/"
        },
        "outputId": "fb851782-37d5-4358-e61a-e58c0ee7ee45"
      },
      "outputs": [
        {
          "output_type": "stream",
          "name": "stdout",
          "text": [
            "Looking in indexes: https://pypi.org/simple, https://us-python.pkg.dev/colab-wheels/public/simple/\n",
            "Collecting polars\n",
            "  Downloading polars-0.17.5-cp37-abi3-manylinux_2_17_x86_64.manylinux2014_x86_64.whl (17.5 MB)\n",
            "\u001b[2K     \u001b[90m━━━━━━━━━━━━━━━━━━━━━━━━━━━━━━━━━━━━━━━━\u001b[0m \u001b[32m17.5/17.5 MB\u001b[0m \u001b[31m51.5 MB/s\u001b[0m eta \u001b[36m0:00:00\u001b[0m\n",
            "\u001b[?25hRequirement already satisfied: typing_extensions>=4.0.1 in /usr/local/lib/python3.9/dist-packages (from polars) (4.5.0)\n",
            "Installing collected packages: polars\n",
            "Successfully installed polars-0.17.5\n"
          ]
        }
      ],
      "source": [
        "!pip install polars"
      ]
    },
    {
      "cell_type": "code",
      "execution_count": 2,
      "id": "d436e3b9",
      "metadata": {
        "execution": {
          "iopub.execute_input": "2022-12-18T23:42:07.754731Z",
          "iopub.status.busy": "2022-12-18T23:42:07.754417Z",
          "iopub.status.idle": "2022-12-18T23:42:19.544581Z",
          "shell.execute_reply": "2022-12-18T23:42:19.543379Z"
        },
        "papermill": {
          "duration": 11.799375,
          "end_time": "2022-12-18T23:42:19.547332",
          "exception": false,
          "start_time": "2022-12-18T23:42:07.747957",
          "status": "completed"
        },
        "tags": [],
        "id": "d436e3b9",
        "colab": {
          "base_uri": "https://localhost:8080/"
        },
        "outputId": "35118689-acf8-4df7-b4f9-7bab8ad7b944"
      },
      "outputs": [
        {
          "output_type": "stream",
          "name": "stdout",
          "text": [
            "Looking in indexes: https://pypi.org/simple, https://us-python.pkg.dev/colab-wheels/public/simple/\n",
            "Collecting recbole\n",
            "  Downloading recbole-1.1.1-py3-none-any.whl (2.1 MB)\n",
            "\u001b[2K     \u001b[90m━━━━━━━━━━━━━━━━━━━━━━━━━━━━━━━━━━━━━━━━\u001b[0m \u001b[32m2.1/2.1 MB\u001b[0m \u001b[31m30.9 MB/s\u001b[0m eta \u001b[36m0:00:00\u001b[0m\n",
            "\u001b[?25hRequirement already satisfied: torch>=1.10.0 in /usr/local/lib/python3.9/dist-packages (from recbole) (2.0.0+cu118)\n",
            "Collecting colorama==0.4.4\n",
            "  Downloading colorama-0.4.4-py2.py3-none-any.whl (16 kB)\n",
            "Collecting colorlog==4.7.2\n",
            "  Downloading colorlog-4.7.2-py2.py3-none-any.whl (10 kB)\n",
            "Requirement already satisfied: pandas>=1.0.5 in /usr/local/lib/python3.9/dist-packages (from recbole) (1.5.3)\n",
            "Requirement already satisfied: numpy>=1.17.2 in /usr/local/lib/python3.9/dist-packages (from recbole) (1.22.4)\n",
            "Requirement already satisfied: pyyaml>=5.1.0 in /usr/local/lib/python3.9/dist-packages (from recbole) (6.0)\n",
            "Requirement already satisfied: scikit-learn>=0.23.2 in /usr/local/lib/python3.9/dist-packages (from recbole) (1.2.2)\n",
            "Requirement already satisfied: plotly>=4.0.0 in /usr/local/lib/python3.9/dist-packages (from recbole) (5.13.1)\n",
            "Requirement already satisfied: tabulate>=0.8.10 in /usr/local/lib/python3.9/dist-packages (from recbole) (0.8.10)\n",
            "Requirement already satisfied: scipy>=1.6.0 in /usr/local/lib/python3.9/dist-packages (from recbole) (1.10.1)\n",
            "Requirement already satisfied: tensorboard>=2.5.0 in /usr/local/lib/python3.9/dist-packages (from recbole) (2.12.1)\n",
            "Collecting thop>=0.1.1.post2207130030\n",
            "  Downloading thop-0.1.1.post2209072238-py3-none-any.whl (15 kB)\n",
            "Requirement already satisfied: tqdm>=4.48.2 in /usr/local/lib/python3.9/dist-packages (from recbole) (4.65.0)\n",
            "Requirement already satisfied: python-dateutil>=2.8.1 in /usr/local/lib/python3.9/dist-packages (from pandas>=1.0.5->recbole) (2.8.2)\n",
            "Requirement already satisfied: pytz>=2020.1 in /usr/local/lib/python3.9/dist-packages (from pandas>=1.0.5->recbole) (2022.7.1)\n",
            "Requirement already satisfied: tenacity>=6.2.0 in /usr/local/lib/python3.9/dist-packages (from plotly>=4.0.0->recbole) (8.2.2)\n",
            "Requirement already satisfied: joblib>=1.1.1 in /usr/local/lib/python3.9/dist-packages (from scikit-learn>=0.23.2->recbole) (1.2.0)\n",
            "Requirement already satisfied: threadpoolctl>=2.0.0 in /usr/local/lib/python3.9/dist-packages (from scikit-learn>=0.23.2->recbole) (3.1.0)\n",
            "Requirement already satisfied: absl-py>=0.4 in /usr/local/lib/python3.9/dist-packages (from tensorboard>=2.5.0->recbole) (1.4.0)\n",
            "Requirement already satisfied: tensorboard-plugin-wit>=1.6.0 in /usr/local/lib/python3.9/dist-packages (from tensorboard>=2.5.0->recbole) (1.8.1)\n",
            "Requirement already satisfied: google-auth<3,>=1.6.3 in /usr/local/lib/python3.9/dist-packages (from tensorboard>=2.5.0->recbole) (2.17.2)\n",
            "Requirement already satisfied: google-auth-oauthlib<1.1,>=0.5 in /usr/local/lib/python3.9/dist-packages (from tensorboard>=2.5.0->recbole) (1.0.0)\n",
            "Requirement already satisfied: werkzeug>=1.0.1 in /usr/local/lib/python3.9/dist-packages (from tensorboard>=2.5.0->recbole) (2.2.3)\n",
            "Requirement already satisfied: setuptools>=41.0.0 in /usr/local/lib/python3.9/dist-packages (from tensorboard>=2.5.0->recbole) (67.6.1)\n",
            "Requirement already satisfied: requests<3,>=2.21.0 in /usr/local/lib/python3.9/dist-packages (from tensorboard>=2.5.0->recbole) (2.27.1)\n",
            "Requirement already satisfied: grpcio>=1.48.2 in /usr/local/lib/python3.9/dist-packages (from tensorboard>=2.5.0->recbole) (1.53.0)\n",
            "Requirement already satisfied: tensorboard-data-server<0.8.0,>=0.7.0 in /usr/local/lib/python3.9/dist-packages (from tensorboard>=2.5.0->recbole) (0.7.0)\n",
            "Requirement already satisfied: markdown>=2.6.8 in /usr/local/lib/python3.9/dist-packages (from tensorboard>=2.5.0->recbole) (3.4.3)\n",
            "Requirement already satisfied: protobuf>=3.19.6 in /usr/local/lib/python3.9/dist-packages (from tensorboard>=2.5.0->recbole) (3.20.3)\n",
            "Requirement already satisfied: wheel>=0.26 in /usr/local/lib/python3.9/dist-packages (from tensorboard>=2.5.0->recbole) (0.40.0)\n",
            "Requirement already satisfied: filelock in /usr/local/lib/python3.9/dist-packages (from torch>=1.10.0->recbole) (3.11.0)\n",
            "Requirement already satisfied: triton==2.0.0 in /usr/local/lib/python3.9/dist-packages (from torch>=1.10.0->recbole) (2.0.0)\n",
            "Requirement already satisfied: networkx in /usr/local/lib/python3.9/dist-packages (from torch>=1.10.0->recbole) (3.1)\n",
            "Requirement already satisfied: jinja2 in /usr/local/lib/python3.9/dist-packages (from torch>=1.10.0->recbole) (3.1.2)\n",
            "Requirement already satisfied: typing-extensions in /usr/local/lib/python3.9/dist-packages (from torch>=1.10.0->recbole) (4.5.0)\n",
            "Requirement already satisfied: sympy in /usr/local/lib/python3.9/dist-packages (from torch>=1.10.0->recbole) (1.11.1)\n",
            "Requirement already satisfied: lit in /usr/local/lib/python3.9/dist-packages (from triton==2.0.0->torch>=1.10.0->recbole) (16.0.1)\n",
            "Requirement already satisfied: cmake in /usr/local/lib/python3.9/dist-packages (from triton==2.0.0->torch>=1.10.0->recbole) (3.25.2)\n",
            "Requirement already satisfied: six>=1.9.0 in /usr/local/lib/python3.9/dist-packages (from google-auth<3,>=1.6.3->tensorboard>=2.5.0->recbole) (1.16.0)\n",
            "Requirement already satisfied: pyasn1-modules>=0.2.1 in /usr/local/lib/python3.9/dist-packages (from google-auth<3,>=1.6.3->tensorboard>=2.5.0->recbole) (0.2.8)\n",
            "Requirement already satisfied: rsa<5,>=3.1.4 in /usr/local/lib/python3.9/dist-packages (from google-auth<3,>=1.6.3->tensorboard>=2.5.0->recbole) (4.9)\n",
            "Requirement already satisfied: cachetools<6.0,>=2.0.0 in /usr/local/lib/python3.9/dist-packages (from google-auth<3,>=1.6.3->tensorboard>=2.5.0->recbole) (5.3.0)\n",
            "Requirement already satisfied: requests-oauthlib>=0.7.0 in /usr/local/lib/python3.9/dist-packages (from google-auth-oauthlib<1.1,>=0.5->tensorboard>=2.5.0->recbole) (1.3.1)\n",
            "Requirement already satisfied: importlib-metadata>=4.4 in /usr/local/lib/python3.9/dist-packages (from markdown>=2.6.8->tensorboard>=2.5.0->recbole) (6.3.0)\n",
            "Requirement already satisfied: idna<4,>=2.5 in /usr/local/lib/python3.9/dist-packages (from requests<3,>=2.21.0->tensorboard>=2.5.0->recbole) (3.4)\n",
            "Requirement already satisfied: charset-normalizer~=2.0.0 in /usr/local/lib/python3.9/dist-packages (from requests<3,>=2.21.0->tensorboard>=2.5.0->recbole) (2.0.12)\n",
            "Requirement already satisfied: urllib3<1.27,>=1.21.1 in /usr/local/lib/python3.9/dist-packages (from requests<3,>=2.21.0->tensorboard>=2.5.0->recbole) (1.26.15)\n",
            "Requirement already satisfied: certifi>=2017.4.17 in /usr/local/lib/python3.9/dist-packages (from requests<3,>=2.21.0->tensorboard>=2.5.0->recbole) (2022.12.7)\n",
            "Requirement already satisfied: MarkupSafe>=2.1.1 in /usr/local/lib/python3.9/dist-packages (from werkzeug>=1.0.1->tensorboard>=2.5.0->recbole) (2.1.2)\n",
            "Requirement already satisfied: mpmath>=0.19 in /usr/local/lib/python3.9/dist-packages (from sympy->torch>=1.10.0->recbole) (1.3.0)\n",
            "Requirement already satisfied: zipp>=0.5 in /usr/local/lib/python3.9/dist-packages (from importlib-metadata>=4.4->markdown>=2.6.8->tensorboard>=2.5.0->recbole) (3.15.0)\n",
            "Requirement already satisfied: pyasn1<0.5.0,>=0.4.6 in /usr/local/lib/python3.9/dist-packages (from pyasn1-modules>=0.2.1->google-auth<3,>=1.6.3->tensorboard>=2.5.0->recbole) (0.4.8)\n",
            "Requirement already satisfied: oauthlib>=3.0.0 in /usr/local/lib/python3.9/dist-packages (from requests-oauthlib>=0.7.0->google-auth-oauthlib<1.1,>=0.5->tensorboard>=2.5.0->recbole) (3.2.2)\n",
            "Installing collected packages: colorlog, colorama, thop, recbole\n",
            "Successfully installed colorama-0.4.4 colorlog-4.7.2 recbole-1.1.1 thop-0.1.1.post2209072238\n"
          ]
        }
      ],
      "source": [
        "!pip install recbole"
      ]
    },
    {
      "cell_type": "code",
      "execution_count": 5,
      "id": "21a62ea0",
      "metadata": {
        "execution": {
          "iopub.execute_input": "2022-12-18T23:42:19.562728Z",
          "iopub.status.busy": "2022-12-18T23:42:19.562405Z",
          "iopub.status.idle": "2022-12-18T23:42:20.449425Z",
          "shell.execute_reply": "2022-12-18T23:42:20.448479Z"
        },
        "papermill": {
          "duration": 0.897307,
          "end_time": "2022-12-18T23:42:20.451838",
          "exception": false,
          "start_time": "2022-12-18T23:42:19.554531",
          "status": "completed"
        },
        "tags": [],
        "id": "21a62ea0"
      },
      "outputs": [],
      "source": [
        "import tqdm\n",
        "import polars as pl\n",
        "import numpy as np\n",
        "import pandas as pd\n",
        "import seaborn as sns\n",
        "import random\n",
        "import os \n",
        "import h5py\n",
        "import sys\n",
        "import gc\n",
        "\n",
        "from matplotlib import pyplot as plt\n",
        "import pyarrow.parquet as pq"
      ]
    },
    {
      "cell_type": "code",
      "source": [
        "from google.colab import drive\n",
        "drive.mount('/content/drive')"
      ],
      "metadata": {
        "colab": {
          "base_uri": "https://localhost:8080/"
        },
        "id": "R19a2qoEZxba",
        "outputId": "d3c2c21b-f596-4f06-8369-fe6ab91758b5"
      },
      "id": "R19a2qoEZxba",
      "execution_count": 6,
      "outputs": [
        {
          "output_type": "stream",
          "name": "stdout",
          "text": [
            "Mounted at /content/drive\n"
          ]
        }
      ]
    },
    {
      "cell_type": "markdown",
      "id": "bebf923e",
      "metadata": {
        "papermill": {
          "duration": 0.006377,
          "end_time": "2022-12-18T23:42:20.464989",
          "exception": false,
          "start_time": "2022-12-18T23:42:20.458612",
          "status": "completed"
        },
        "tags": [],
        "id": "bebf923e"
      },
      "source": [
        "# 1. EDA and Preprocessing"
      ]
    },
    {
      "cell_type": "code",
      "execution_count": 7,
      "id": "4c7e173b",
      "metadata": {
        "execution": {
          "iopub.execute_input": "2022-12-18T23:42:20.479028Z",
          "iopub.status.busy": "2022-12-18T23:42:20.478725Z",
          "iopub.status.idle": "2022-12-18T23:42:23.490548Z",
          "shell.execute_reply": "2022-12-18T23:42:23.489545Z"
        },
        "papermill": {
          "duration": 3.02189,
          "end_time": "2022-12-18T23:42:23.493317",
          "exception": false,
          "start_time": "2022-12-18T23:42:20.471427",
          "status": "completed"
        },
        "tags": [],
        "colab": {
          "base_uri": "https://localhost:8080/",
          "height": 448
        },
        "id": "4c7e173b",
        "outputId": "ac7b0232-7029-459c-a505-d28914b047a3"
      },
      "outputs": [
        {
          "output_type": "stream",
          "name": "stdout",
          "text": [
            "(21626, 10)\n"
          ]
        },
        {
          "output_type": "display_data",
          "data": {
            "text/plain": [
              "<Figure size 640x480 with 1 Axes>"
            ],
            "image/png": "[encoded data removed]"
          },
          "metadata": {}
        }
      ],
      "source": [
        "df = pd.read_csv('/content/drive/MyDrive/University/CMPE 351/sbr_data_1M.csv', nrows=1000000)\n",
        "\n",
        "user_info = df.drop_duplicates(subset=[\"user_id\"])\n",
        "user_info.head()\n",
        "print(user_info.shape)\n",
        "\n",
        "sns.barplot(data=user_info, y=user_info['age'].value_counts(), x=[2, 3, 0, 4, 5, 1, 6, 7])\n",
        "\n",
        "#df = df.sort_values(['user_id'])\n",
        "\n",
        "df['timestamp'] = df.index\n",
        "\n",
        "mapping = {'user_id':'user_id:token', 'item_id': 'item_id:token', 'timestamp':'timestamp:float'}\n",
        "df = df.rename(columns=mapping)\n",
        "\n",
        "df0 = df[df['age'] == 0]\n",
        "df1 = df[df['age'] == 1]\n",
        "df2 = df[df['age'] == 2]\n",
        "df3 = df[df['age'] == 3]\n",
        "df4 = df[df['age'] == 4]\n",
        "df5 = df[df['age'] == 5]\n",
        "df6 = df[df['age'] == 6]\n",
        "df7 = df[df['age'] == 7]"
      ]
    },
    {
      "cell_type": "code",
      "source": [
        "df5.shape"
      ],
      "metadata": {
        "colab": {
          "base_uri": "https://localhost:8080/"
        },
        "id": "K-2wlD3He94q",
        "outputId": "cb01572f-fe59-48bb-c7ee-16e4db3d40d4"
      },
      "id": "K-2wlD3He94q",
      "execution_count": 8,
      "outputs": [
        {
          "output_type": "execute_result",
          "data": {
            "text/plain": [
              "(31172, 11)"
            ]
          },
          "metadata": {},
          "execution_count": 8
        }
      ]
    },
    {
      "cell_type": "code",
      "source": [
        "data = df.drop(columns=['click', 'follow', 'like', 'share', 'video_category', 'gender', 'age', 'watching_times'])\n",
        "print(data.shape)\n",
        "\n",
        "data = data[~data.isnull()]\n",
        "print(data.shape)\n",
        "\n",
        "data.head()"
      ],
      "metadata": {
        "colab": {
          "base_uri": "https://localhost:8080/",
          "height": 242
        },
        "id": "YbzLqJmluwcq",
        "outputId": "6bf46e33-cb52-4ca7-9c3c-1120e32cf14e"
      },
      "id": "YbzLqJmluwcq",
      "execution_count": 9,
      "outputs": [
        {
          "output_type": "stream",
          "name": "stdout",
          "text": [
            "(1000000, 3)\n",
            "(1000000, 3)\n"
          ]
        },
        {
          "output_type": "execute_result",
          "data": {
            "text/plain": [
              "   user_id:token  item_id:token  timestamp:float\n",
              "0              1              1                0\n",
              "1              1              2                1\n",
              "2              1              3                2\n",
              "3              1          80936                3\n",
              "4              1            781                4"
            ],
            "text/html": [
              "\n",
              "  <div id=\"df-f6b80392-217f-43b1-b459-2f7e22dffb39\">\n",
              "    <div class=\"colab-df-container\">\n",
              "      <div>\n",
              "<style scoped>\n",
              "    .dataframe tbody tr th:only-of-type {\n",
              "        vertical-align: middle;\n",
              "    }\n",
              "\n",
              "    .dataframe tbody tr th {\n",
              "        vertical-align: top;\n",
              "    }\n",
              "\n",
              "    .dataframe thead th {\n",
              "        text-align: right;\n",
              "    }\n",
              "</style>\n",
              "<table border=\"1\" class=\"dataframe\">\n",
              "  <thead>\n",
              "    <tr style=\"text-align: right;\">\n",
              "      <th></th>\n",
              "      <th>user_id:token</th>\n",
              "      <th>item_id:token</th>\n",
              "      <th>timestamp:float</th>\n",
              "    </tr>\n",
              "  </thead>\n",
              "  <tbody>\n",
              "    <tr>\n",
              "      <th>0</th>\n",
              "      <td>1</td>\n",
              "      <td>1</td>\n",
              "      <td>0</td>\n",
              "    </tr>\n",
              "    <tr>\n",
              "      <th>1</th>\n",
              "      <td>1</td>\n",
              "      <td>2</td>\n",
              "      <td>1</td>\n",
              "    </tr>\n",
              "    <tr>\n",
              "      <th>2</th>\n",
              "      <td>1</td>\n",
              "      <td>3</td>\n",
              "      <td>2</td>\n",
              "    </tr>\n",
              "    <tr>\n",
              "      <th>3</th>\n",
              "      <td>1</td>\n",
              "      <td>80936</td>\n",
              "      <td>3</td>\n",
              "    </tr>\n",
              "    <tr>\n",
              "      <th>4</th>\n",
              "      <td>1</td>\n",
              "      <td>781</td>\n",
              "      <td>4</td>\n",
              "    </tr>\n",
              "  </tbody>\n",
              "</table>\n",
              "</div>\n",
              "      <button class=\"colab-df-convert\" onclick=\"convertToInteractive('df-f6b80392-217f-43b1-b459-2f7e22dffb39')\"\n",
              "              title=\"Convert this dataframe to an interactive table.\"\n",
              "              style=\"display:none;\">\n",
              "        \n",
              "  <svg xmlns=\"http://www.w3.org/2000/svg\" height=\"24px\"viewBox=\"0 0 24 24\"\n",
              "       width=\"24px\">\n",
              "    <path d=\"M0 0h24v24H0V0z\" fill=\"none\"/>\n",
              "    <path d=\"M18.56 5.44l.94 2.06.94-2.06 2.06-.94-2.06-.94-.94-2.06-.94 2.06-2.06.94zm-11 1L8.5 8.5l.94-2.06 2.06-.94-2.06-.94L8.5 2.5l-.94 2.06-2.06.94zm10 10l.94 2.06.94-2.06 2.06-.94-2.06-.94-.94-2.06-.94 2.06-2.06.94z\"/><path d=\"M17.41 7.96l-1.37-1.37c-.4-.4-.92-.59-1.43-.59-.52 0-1.04.2-1.43.59L10.3 9.45l-7.72 7.72c-.78.78-.78 2.05 0 2.83L4 21.41c.39.39.9.59 1.41.59.51 0 1.02-.2 1.41-.59l7.78-7.78 2.81-2.81c.8-.78.8-2.07 0-2.86zM5.41 20L4 18.59l7.72-7.72 1.47 1.35L5.41 20z\"/>\n",
              "  </svg>\n",
              "      </button>\n",
              "      \n",
              "  <style>\n",
              "    .colab-df-container {\n",
              "      display:flex;\n",
              "      flex-wrap:wrap;\n",
              "      gap: 12px;\n",
              "    }\n",
              "\n",
              "    .colab-df-convert {\n",
              "      background-color: #E8F0FE;\n",
              "      border: none;\n",
              "      border-radius: 50%;\n",
              "      cursor: pointer;\n",
              "      display: none;\n",
              "      fill: #1967D2;\n",
              "      height: 32px;\n",
              "      padding: 0 0 0 0;\n",
              "      width: 32px;\n",
              "    }\n",
              "\n",
              "    .colab-df-convert:hover {\n",
              "      background-color: #E2EBFA;\n",
              "      box-shadow: 0px 1px 2px rgba(60, 64, 67, 0.3), 0px 1px 3px 1px rgba(60, 64, 67, 0.15);\n",
              "      fill: #174EA6;\n",
              "    }\n",
              "\n",
              "    [theme=dark] .colab-df-convert {\n",
              "      background-color: #3B4455;\n",
              "      fill: #D2E3FC;\n",
              "    }\n",
              "\n",
              "    [theme=dark] .colab-df-convert:hover {\n",
              "      background-color: #434B5C;\n",
              "      box-shadow: 0px 1px 3px 1px rgba(0, 0, 0, 0.15);\n",
              "      filter: drop-shadow(0px 1px 2px rgba(0, 0, 0, 0.3));\n",
              "      fill: #FFFFFF;\n",
              "    }\n",
              "  </style>\n",
              "\n",
              "      <script>\n",
              "        const buttonEl =\n",
              "          document.querySelector('#df-f6b80392-217f-43b1-b459-2f7e22dffb39 button.colab-df-convert');\n",
              "        buttonEl.style.display =\n",
              "          google.colab.kernel.accessAllowed ? 'block' : 'none';\n",
              "\n",
              "        async function convertToInteractive(key) {\n",
              "          const element = document.querySelector('#df-f6b80392-217f-43b1-b459-2f7e22dffb39');\n",
              "          const dataTable =\n",
              "            await google.colab.kernel.invokeFunction('convertToInteractive',\n",
              "                                                     [key], {});\n",
              "          if (!dataTable) return;\n",
              "\n",
              "          const docLinkHtml = 'Like what you see? Visit the ' +\n",
              "            '<a target=\"_blank\" href=https://colab.research.google.com/notebooks/data_table.ipynb>data table notebook</a>'\n",
              "            + ' to learn more about interactive tables.';\n",
              "          element.innerHTML = '';\n",
              "          dataTable['output_type'] = 'display_data';\n",
              "          await google.colab.output.renderOutput(dataTable, element);\n",
              "          const docLink = document.createElement('div');\n",
              "          docLink.innerHTML = docLinkHtml;\n",
              "          element.appendChild(docLink);\n",
              "        }\n",
              "      </script>\n",
              "    </div>\n",
              "  </div>\n",
              "  "
            ]
          },
          "metadata": {},
          "execution_count": 9
        }
      ]
    },
    {
      "cell_type": "code",
      "source": [
        "data.head()\n",
        "data['user_id:token'].unique()"
      ],
      "metadata": {
        "colab": {
          "base_uri": "https://localhost:8080/"
        },
        "id": "3hxOIdH8yWfs",
        "outputId": "38882ae5-4f7c-45c4-e2dd-0db962855b66"
      },
      "id": "3hxOIdH8yWfs",
      "execution_count": 10,
      "outputs": [
        {
          "output_type": "execute_result",
          "data": {
            "text/plain": [
              "array([    1,     2,     3, ..., 21624, 21625, 21626])"
            ]
          },
          "metadata": {},
          "execution_count": 10
        }
      ]
    },
    {
      "cell_type": "code",
      "execution_count": 11,
      "id": "f54a9153",
      "metadata": {
        "execution": {
          "iopub.execute_input": "2022-12-18T23:42:23.509119Z",
          "iopub.status.busy": "2022-12-18T23:42:23.508096Z",
          "iopub.status.idle": "2022-12-18T23:42:28.091122Z",
          "shell.execute_reply": "2022-12-18T23:42:28.090064Z"
        },
        "papermill": {
          "duration": 4.592884,
          "end_time": "2022-12-18T23:42:28.093276",
          "exception": false,
          "start_time": "2022-12-18T23:42:23.500392",
          "status": "completed"
        },
        "tags": [],
        "id": "f54a9153"
      },
      "outputs": [],
      "source": [
        "!mkdir /content/data\n",
        "\n",
        "data.to_csv('/content/data/data.inter', index=False, sep='\\t')"
      ]
    },
    {
      "cell_type": "code",
      "source": [
        "print(data.head())\n",
        "print(data.dtypes)\n",
        "df_inter = pd.read_csv('/content/data/data.inter')\n",
        "print(df_inter.head())"
      ],
      "metadata": {
        "colab": {
          "base_uri": "https://localhost:8080/"
        },
        "id": "T0O3HIFwOC5B",
        "outputId": "e425c192-9641-4dfc-b60a-02967644e125"
      },
      "id": "T0O3HIFwOC5B",
      "execution_count": 12,
      "outputs": [
        {
          "output_type": "stream",
          "name": "stdout",
          "text": [
            "   user_id:token  item_id:token  timestamp:float\n",
            "0              1              1                0\n",
            "1              1              2                1\n",
            "2              1              3                2\n",
            "3              1          80936                3\n",
            "4              1            781                4\n",
            "user_id:token      int64\n",
            "item_id:token      int64\n",
            "timestamp:float    int64\n",
            "dtype: object\n",
            "  user_id:token\\titem_id:token\\ttimestamp:float\n",
            "0                                       1\\t1\\t0\n",
            "1                                       1\\t2\\t1\n",
            "2                                       1\\t3\\t2\n",
            "3                                   1\\t80936\\t3\n",
            "4                                     1\\t781\\t4\n"
          ]
        }
      ]
    },
    {
      "cell_type": "markdown",
      "id": "c60f136b",
      "metadata": {
        "papermill": {
          "duration": 0.006526,
          "end_time": "2022-12-18T23:42:28.106859",
          "exception": false,
          "start_time": "2022-12-18T23:42:28.100333",
          "status": "completed"
        },
        "tags": [],
        "id": "c60f136b"
      },
      "source": [
        "# 3. Create dataset and train model with Recbole\n",
        "\n",
        "Documentation: https://recbole.io/docs/user_guide/usage/use_modules.html"
      ]
    },
    {
      "cell_type": "code",
      "execution_count": 13,
      "id": "6da7733b",
      "metadata": {
        "execution": {
          "iopub.execute_input": "2022-12-18T23:42:28.122898Z",
          "iopub.status.busy": "2022-12-18T23:42:28.122121Z",
          "iopub.status.idle": "2022-12-18T23:42:29.741500Z",
          "shell.execute_reply": "2022-12-18T23:42:29.740478Z"
        },
        "papermill": {
          "duration": 1.62961,
          "end_time": "2022-12-18T23:42:29.743862",
          "exception": false,
          "start_time": "2022-12-18T23:42:28.114252",
          "status": "completed"
        },
        "tags": [],
        "id": "6da7733b"
      },
      "outputs": [],
      "source": [
        "import logging\n",
        "from logging import getLogger\n",
        "from recbole.config import Config\n",
        "from recbole.data import create_dataset, data_preparation\n",
        "from recbole.model.sequential_recommender import BERT4Rec, GRU4Rec\n",
        "from recbole.trainer import Trainer\n",
        "from recbole.utils import init_seed, init_logger\n",
        "\n",
        "from recbole.utils.case_study import full_sort_topk"
      ]
    },
    {
      "cell_type": "code",
      "execution_count": 14,
      "id": "5cc0955e",
      "metadata": {
        "execution": {
          "iopub.execute_input": "2022-12-18T23:42:29.759825Z",
          "iopub.status.busy": "2022-12-18T23:42:29.759275Z",
          "iopub.status.idle": "2022-12-18T23:42:30.158848Z",
          "shell.execute_reply": "2022-12-18T23:42:30.157204Z"
        },
        "papermill": {
          "duration": 0.701884,
          "end_time": "2022-12-18T23:42:30.453014",
          "exception": false,
          "start_time": "2022-12-18T23:42:29.751130",
          "status": "completed"
        },
        "tags": [],
        "id": "5cc0955e"
      },
      "outputs": [],
      "source": [
        "MAX_ITEM = 20\n",
        "\n",
        "parameter_dict = {\n",
        "    'data_path': '/content/',\n",
        "    'USER_ID_FIELD': 'user_id',\n",
        "    'ITEM_ID_FIELD': 'item_id',\n",
        "    'TIME_FIELD': 'timestamp',\n",
        "    'user_inter_num_interval': \"[5,Inf)\",\n",
        "    'item_inter_num_interval': \"[5,Inf)\",\n",
        "    'load_col': {'inter': ['user_id', 'item_id', 'timestamp'], 'item': ['item_id', 'item_emb']},\n",
        "    'train_neg_sample_args': None,\n",
        "    'epochs': 10,\n",
        "    'stopping_step':3,\n",
        "    'eval_batch_size': 1024,\n",
        "    #'train_batch_size': 1024,\n",
        "    #'enable_amp':True,\n",
        "    'MAX_ITEM_LIST_LENGTH': MAX_ITEM,\n",
        "    'eval_args': {\n",
        "        'split': {'RS': [9, 1, 0]},\n",
        "        'group_by': 'user',\n",
        "        'order': 'TO',\n",
        "        'mode': 'full'},\n",
        "    'shuffle': False,\n",
        "    'lowest_val': {'item_id:token': 0}\n",
        "}\n",
        "\n",
        "config = Config(model='GRU4Rec', dataset='data', config_dict=parameter_dict)\n",
        "\n",
        "# init random seed\n",
        "init_seed(config['seed'], config['reproducibility'])\n",
        "\n",
        "# logger initialization\n",
        "init_logger(config)\n",
        "logger = getLogger()\n",
        "\n",
        "# Create handlers\n",
        "c_handler = logging.StreamHandler()\n",
        "c_handler.setLevel(logging.INFO)\n",
        "logger.addHandler(c_handler)\n",
        "\n",
        "# write config info into log\n",
        "logger.info(config)"
      ]
    },
    {
      "cell_type": "code",
      "execution_count": 15,
      "id": "ef2e6128",
      "metadata": {
        "execution": {
          "iopub.execute_input": "2022-12-18T23:42:30.502739Z",
          "iopub.status.busy": "2022-12-18T23:42:30.502412Z",
          "iopub.status.idle": "2022-12-18T23:44:54.287618Z",
          "shell.execute_reply": "2022-12-18T23:44:54.286830Z"
        },
        "papermill": {
          "duration": 143.847865,
          "end_time": "2022-12-18T23:44:54.325474",
          "exception": false,
          "start_time": "2022-12-18T23:42:30.477609",
          "status": "completed"
        },
        "tags": [],
        "id": "ef2e6128"
      },
      "outputs": [],
      "source": [
        "dataset = create_dataset(config)\n",
        "logger.info(dataset)"
      ]
    },
    {
      "cell_type": "code",
      "execution_count": 16,
      "id": "d648578a",
      "metadata": {
        "execution": {
          "iopub.execute_input": "2022-12-18T23:44:54.376666Z",
          "iopub.status.busy": "2022-12-18T23:44:54.376360Z",
          "iopub.status.idle": "2022-12-18T23:46:43.669747Z",
          "shell.execute_reply": "2022-12-18T23:46:43.669036Z"
        },
        "papermill": {
          "duration": 109.354417,
          "end_time": "2022-12-18T23:46:43.705217",
          "exception": false,
          "start_time": "2022-12-18T23:44:54.350800",
          "status": "completed"
        },
        "tags": [],
        "id": "d648578a"
      },
      "outputs": [],
      "source": [
        "# dataset splitting\n",
        "train_data, valid_data, test_data = data_preparation(config, dataset)"
      ]
    },
    {
      "cell_type": "code",
      "execution_count": 17,
      "id": "80a60726",
      "metadata": {
        "execution": {
          "iopub.execute_input": "2022-12-18T23:46:43.758074Z",
          "iopub.status.busy": "2022-12-18T23:46:43.757763Z",
          "iopub.status.idle": "2022-12-19T01:02:18.755337Z",
          "shell.execute_reply": "2022-12-19T01:02:18.754431Z"
        },
        "papermill": {
          "duration": 4535.026086,
          "end_time": "2022-12-19T01:02:18.757518",
          "exception": false,
          "start_time": "2022-12-18T23:46:43.731432",
          "status": "completed"
        },
        "scrolled": true,
        "tags": [],
        "id": "80a60726"
      },
      "outputs": [],
      "source": [
        "# model loading and initialization\n",
        "model = GRU4Rec(config, train_data.dataset).to(config['device'])\n",
        "logger.info(model)\n",
        "\n",
        "# trainer loading and initialization\n",
        "trainer = Trainer(config, model)\n",
        "\n",
        "# model training\n",
        "best_valid_score, best_valid_result = trainer.fit(train_data, valid_data)\n",
        "#best_valid_score, best_valid_result = trainer.fit(train_data)"
      ]
    },
    {
      "cell_type": "code",
      "execution_count": 18,
      "id": "23e1e9ac",
      "metadata": {
        "execution": {
          "iopub.execute_input": "2022-12-19T01:02:18.827534Z",
          "iopub.status.busy": "2022-12-19T01:02:18.826023Z",
          "iopub.status.idle": "2022-12-19T01:02:18.831574Z",
          "shell.execute_reply": "2022-12-19T01:02:18.830705Z"
        },
        "papermill": {
          "duration": 0.042044,
          "end_time": "2022-12-19T01:02:18.833463",
          "exception": false,
          "start_time": "2022-12-19T01:02:18.791419",
          "status": "completed"
        },
        "tags": [],
        "id": "23e1e9ac",
        "colab": {
          "base_uri": "https://localhost:8080/"
        },
        "outputId": "7140dfe1-12c7-4df5-f2b9-06a9f229d184"
      },
      "outputs": [
        {
          "output_type": "stream",
          "name": "stdout",
          "text": [
            "0.013\n",
            "OrderedDict([('recall@10', 0.0392), ('mrr@10', 0.013), ('ndcg@10', 0.019), ('hit@10', 0.0392), ('precision@10', 0.0039)])\n"
          ]
        }
      ],
      "source": [
        "print(best_valid_score)\n",
        "print(best_valid_result)\n",
        "import gc\n",
        "del trainer, train_data, valid_data, test_data"
      ]
    },
    {
      "cell_type": "code",
      "execution_count": 19,
      "id": "f6e916a1",
      "metadata": {
        "execution": {
          "iopub.execute_input": "2022-12-19T01:02:18.902468Z",
          "iopub.status.busy": "2022-12-19T01:02:18.901065Z",
          "iopub.status.idle": "2022-12-19T01:02:19.490425Z",
          "shell.execute_reply": "2022-12-19T01:02:19.489524Z"
        },
        "papermill": {
          "duration": 0.626057,
          "end_time": "2022-12-19T01:02:19.492637",
          "exception": false,
          "start_time": "2022-12-19T01:02:18.866580",
          "status": "completed"
        },
        "tags": [],
        "colab": {
          "base_uri": "https://localhost:8080/"
        },
        "id": "f6e916a1",
        "outputId": "5b3282f4-9d10-46da-bb57-9ec91131141e"
      },
      "outputs": [
        {
          "output_type": "execute_result",
          "data": {
            "text/plain": [
              "0"
            ]
          },
          "metadata": {},
          "execution_count": 19
        }
      ],
      "source": [
        "gc.collect()"
      ]
    }
  ],
  "metadata": {
    "kernelspec": {
      "display_name": "Python 3",
      "language": "python",
      "name": "python3"
    },
    "language_info": {
      "codemirror_mode": {
        "name": "ipython",
        "version": 3
      },
      "file_extension": ".py",
      "mimetype": "text/x-python",
      "name": "python",
      "nbconvert_exporter": "python",
      "pygments_lexer": "ipython3",
      "version": "3.7.12"
    },
    "papermill": {
      "default_parameters": {},
      "duration": 14032.607485,
      "end_time": "2022-12-19T03:35:40.573576",
      "environment_variables": {},
      "exception": null,
      "input_path": "__notebook__.ipynb",
      "output_path": "__notebook__.ipynb",
      "parameters": {},
      "start_time": "2022-12-18T23:41:47.966091",
      "version": "2.3.4"
    },
    "colab": {
      "provenance": [],
      "include_colab_link": true
    },
    "accelerator": "GPU",
    "gpuClass": "standard"
  },
  "nbformat": 4,
  "nbformat_minor": 5
}